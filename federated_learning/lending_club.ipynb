{
 "cells": [
  {
   "cell_type": "code",
   "execution_count": 1,
   "metadata": {},
   "outputs": [],
   "source": [
    "import numpy as np\n",
    "import pandas as pd\n",
    "import matplotlib.pyplot as plt\n",
    "plt.style.use('ggplot')\n",
    "import seaborn as sns\n",
    "sns.set_style('whitegrid')"
   ]
  },
  {
   "cell_type": "markdown",
   "metadata": {},
   "source": [
    "## refer\n",
    "https://www.zhihu.com/tardis/zm/art/29994599?source_id=1005\n",
    "\n",
    "\n",
    "https://www.kaggle.com/code/faressayah/lending-club-loan-defaulters-prediction/notebook "
   ]
  },
  {
   "cell_type": "markdown",
   "metadata": {},
   "source": [
    "## Step0. "
   ]
  },
  {
   "cell_type": "code",
   "execution_count": 2,
   "metadata": {},
   "outputs": [
    {
     "name": "stderr",
     "output_type": "stream",
     "text": [
      "C:\\Users\\haiwu\\AppData\\Local\\Temp\\ipykernel_36820\\3546809514.py:1: DtypeWarning: Columns (0) have mixed types. Specify dtype option on import or set low_memory=False.\n",
      "  data = pd.read_csv('./dataset//LoanStats_2017Q2.csv' , encoding='latin-1')\n"
     ]
    },
    {
     "data": {
      "text/html": [
       "<div>\n",
       "<style scoped>\n",
       "    .dataframe tbody tr th:only-of-type {\n",
       "        vertical-align: middle;\n",
       "    }\n",
       "\n",
       "    .dataframe tbody tr th {\n",
       "        vertical-align: top;\n",
       "    }\n",
       "\n",
       "    .dataframe thead th {\n",
       "        text-align: right;\n",
       "    }\n",
       "</style>\n",
       "<table border=\"1\" class=\"dataframe\">\n",
       "  <thead>\n",
       "    <tr style=\"text-align: right;\">\n",
       "      <th></th>\n",
       "      <th>id</th>\n",
       "      <th>member_id</th>\n",
       "      <th>loan_amnt</th>\n",
       "      <th>funded_amnt</th>\n",
       "      <th>funded_amnt_inv</th>\n",
       "      <th>term</th>\n",
       "      <th>int_rate</th>\n",
       "      <th>installment</th>\n",
       "      <th>grade</th>\n",
       "      <th>sub_grade</th>\n",
       "      <th>...</th>\n",
       "      <th>hardship_payoff_balance_amount</th>\n",
       "      <th>hardship_last_payment_amount</th>\n",
       "      <th>disbursement_method</th>\n",
       "      <th>debt_settlement_flag</th>\n",
       "      <th>debt_settlement_flag_date</th>\n",
       "      <th>settlement_status</th>\n",
       "      <th>settlement_date</th>\n",
       "      <th>settlement_amount</th>\n",
       "      <th>settlement_percentage</th>\n",
       "      <th>settlement_term</th>\n",
       "    </tr>\n",
       "  </thead>\n",
       "  <tbody>\n",
       "    <tr>\n",
       "      <th>0</th>\n",
       "      <td>NaN</td>\n",
       "      <td>NaN</td>\n",
       "      <td>7500.0</td>\n",
       "      <td>7500.0</td>\n",
       "      <td>7500.0</td>\n",
       "      <td>36 months</td>\n",
       "      <td>7.35%</td>\n",
       "      <td>232.79</td>\n",
       "      <td>A</td>\n",
       "      <td>A4</td>\n",
       "      <td>...</td>\n",
       "      <td>NaN</td>\n",
       "      <td>NaN</td>\n",
       "      <td>Cash</td>\n",
       "      <td>N</td>\n",
       "      <td>NaN</td>\n",
       "      <td>NaN</td>\n",
       "      <td>NaN</td>\n",
       "      <td>NaN</td>\n",
       "      <td>NaN</td>\n",
       "      <td>NaN</td>\n",
       "    </tr>\n",
       "    <tr>\n",
       "      <th>1</th>\n",
       "      <td>NaN</td>\n",
       "      <td>NaN</td>\n",
       "      <td>20000.0</td>\n",
       "      <td>20000.0</td>\n",
       "      <td>20000.0</td>\n",
       "      <td>36 months</td>\n",
       "      <td>9.44%</td>\n",
       "      <td>640.10</td>\n",
       "      <td>B</td>\n",
       "      <td>B1</td>\n",
       "      <td>...</td>\n",
       "      <td>NaN</td>\n",
       "      <td>NaN</td>\n",
       "      <td>Cash</td>\n",
       "      <td>N</td>\n",
       "      <td>NaN</td>\n",
       "      <td>NaN</td>\n",
       "      <td>NaN</td>\n",
       "      <td>NaN</td>\n",
       "      <td>NaN</td>\n",
       "      <td>NaN</td>\n",
       "    </tr>\n",
       "    <tr>\n",
       "      <th>2</th>\n",
       "      <td>NaN</td>\n",
       "      <td>NaN</td>\n",
       "      <td>12000.0</td>\n",
       "      <td>12000.0</td>\n",
       "      <td>12000.0</td>\n",
       "      <td>36 months</td>\n",
       "      <td>9.44%</td>\n",
       "      <td>384.06</td>\n",
       "      <td>B</td>\n",
       "      <td>B1</td>\n",
       "      <td>...</td>\n",
       "      <td>NaN</td>\n",
       "      <td>NaN</td>\n",
       "      <td>Cash</td>\n",
       "      <td>N</td>\n",
       "      <td>NaN</td>\n",
       "      <td>NaN</td>\n",
       "      <td>NaN</td>\n",
       "      <td>NaN</td>\n",
       "      <td>NaN</td>\n",
       "      <td>NaN</td>\n",
       "    </tr>\n",
       "    <tr>\n",
       "      <th>3</th>\n",
       "      <td>NaN</td>\n",
       "      <td>NaN</td>\n",
       "      <td>6025.0</td>\n",
       "      <td>6025.0</td>\n",
       "      <td>6025.0</td>\n",
       "      <td>36 months</td>\n",
       "      <td>15.05%</td>\n",
       "      <td>209.01</td>\n",
       "      <td>C</td>\n",
       "      <td>C4</td>\n",
       "      <td>...</td>\n",
       "      <td>NaN</td>\n",
       "      <td>NaN</td>\n",
       "      <td>Cash</td>\n",
       "      <td>N</td>\n",
       "      <td>NaN</td>\n",
       "      <td>NaN</td>\n",
       "      <td>NaN</td>\n",
       "      <td>NaN</td>\n",
       "      <td>NaN</td>\n",
       "      <td>NaN</td>\n",
       "    </tr>\n",
       "    <tr>\n",
       "      <th>4</th>\n",
       "      <td>NaN</td>\n",
       "      <td>NaN</td>\n",
       "      <td>4000.0</td>\n",
       "      <td>4000.0</td>\n",
       "      <td>4000.0</td>\n",
       "      <td>36 months</td>\n",
       "      <td>7.97%</td>\n",
       "      <td>125.30</td>\n",
       "      <td>A</td>\n",
       "      <td>A5</td>\n",
       "      <td>...</td>\n",
       "      <td>NaN</td>\n",
       "      <td>NaN</td>\n",
       "      <td>Cash</td>\n",
       "      <td>N</td>\n",
       "      <td>NaN</td>\n",
       "      <td>NaN</td>\n",
       "      <td>NaN</td>\n",
       "      <td>NaN</td>\n",
       "      <td>NaN</td>\n",
       "      <td>NaN</td>\n",
       "    </tr>\n",
       "  </tbody>\n",
       "</table>\n",
       "<p>5 rows × 145 columns</p>\n",
       "</div>"
      ],
      "text/plain": [
       "    id  member_id  loan_amnt  funded_amnt  funded_amnt_inv        term  \\\n",
       "0  NaN        NaN     7500.0       7500.0           7500.0   36 months   \n",
       "1  NaN        NaN    20000.0      20000.0          20000.0   36 months   \n",
       "2  NaN        NaN    12000.0      12000.0          12000.0   36 months   \n",
       "3  NaN        NaN     6025.0       6025.0           6025.0   36 months   \n",
       "4  NaN        NaN     4000.0       4000.0           4000.0   36 months   \n",
       "\n",
       "  int_rate  installment grade sub_grade  ... hardship_payoff_balance_amount  \\\n",
       "0    7.35%       232.79     A        A4  ...                            NaN   \n",
       "1    9.44%       640.10     B        B1  ...                            NaN   \n",
       "2    9.44%       384.06     B        B1  ...                            NaN   \n",
       "3   15.05%       209.01     C        C4  ...                            NaN   \n",
       "4    7.97%       125.30     A        A5  ...                            NaN   \n",
       "\n",
       "  hardship_last_payment_amount disbursement_method  debt_settlement_flag  \\\n",
       "0                          NaN                Cash                     N   \n",
       "1                          NaN                Cash                     N   \n",
       "2                          NaN                Cash                     N   \n",
       "3                          NaN                Cash                     N   \n",
       "4                          NaN                Cash                     N   \n",
       "\n",
       "  debt_settlement_flag_date settlement_status settlement_date  \\\n",
       "0                       NaN               NaN             NaN   \n",
       "1                       NaN               NaN             NaN   \n",
       "2                       NaN               NaN             NaN   \n",
       "3                       NaN               NaN             NaN   \n",
       "4                       NaN               NaN             NaN   \n",
       "\n",
       "  settlement_amount  settlement_percentage  settlement_term  \n",
       "0               NaN                    NaN              NaN  \n",
       "1               NaN                    NaN              NaN  \n",
       "2               NaN                    NaN              NaN  \n",
       "3               NaN                    NaN              NaN  \n",
       "4               NaN                    NaN              NaN  \n",
       "\n",
       "[5 rows x 145 columns]"
      ]
     },
     "execution_count": 2,
     "metadata": {},
     "output_type": "execute_result"
    }
   ],
   "source": [
    "data = pd.read_csv('./dataset//LoanStats_2017Q2.csv' , encoding='latin-1')\n",
    "data.head()"
   ]
  },
  {
   "cell_type": "code",
   "execution_count": 3,
   "metadata": {},
   "outputs": [
    {
     "name": "stdout",
     "output_type": "stream",
     "text": [
      "url                                           1.000000\n",
      "member_id                                     1.000000\n",
      "desc                                          1.000000\n",
      "id                                            0.999981\n",
      "settlement_percentage                         0.997174\n",
      "settlement_amount                             0.997174\n",
      "settlement_date                               0.997174\n",
      "settlement_status                             0.997174\n",
      "debt_settlement_flag_date                     0.997174\n",
      "settlement_term                               0.997174\n",
      "orig_projected_additional_accrued_interest    0.996548\n",
      "hardship_type                                 0.995941\n",
      "payment_plan_start_date                       0.995941\n",
      "hardship_reason                               0.995941\n",
      "hardship_status                               0.995941\n",
      "deferral_term                                 0.995941\n",
      "hardship_start_date                           0.995941\n",
      "hardship_end_date                             0.995941\n",
      "hardship_amount                               0.995941\n",
      "hardship_length                               0.995941\n",
      "hardship_dpd                                  0.995941\n",
      "hardship_loan_status                          0.995941\n",
      "hardship_payoff_balance_amount                0.995941\n",
      "hardship_last_payment_amount                  0.995941\n",
      "sec_app_mths_since_last_major_derog           0.977867\n",
      "sec_app_revol_util                            0.936190\n",
      "sec_app_open_act_il                           0.935459\n",
      "revol_bal_joint                               0.935459\n",
      "sec_app_earliest_cr_line                      0.935459\n",
      "sec_app_inq_last_6mths                        0.935459\n",
      "sec_app_mort_acc                              0.935459\n",
      "sec_app_open_acc                              0.935459\n",
      "sec_app_chargeoff_within_12_mths              0.935459\n",
      "sec_app_num_rev_accts                         0.935459\n",
      "sec_app_collections_12_mths_ex_med            0.935459\n",
      "annual_inc_joint                              0.935393\n",
      "dti_joint                                     0.935393\n",
      "verification_status_joint                     0.935393\n",
      "mths_since_last_record                        0.807279\n",
      "mths_since_recent_bc_dlq                      0.758594\n",
      "mths_since_last_major_derog                   0.723536\n",
      "mths_since_recent_revol_delinq                0.648412\n",
      "mths_since_last_delinq                        0.484775\n",
      "next_pymnt_d                                  0.229230\n",
      "dtype: float64\n"
     ]
    }
   ],
   "source": [
    "check_null = data.isnull().sum(axis=0).sort_values(ascending=False)/float(len(data))\n",
    "print(check_null[check_null > 0.2])"
   ]
  },
  {
   "cell_type": "code",
   "execution_count": 4,
   "metadata": {},
   "outputs": [
    {
     "data": {
      "text/plain": [
       "mths_since_last_delinq    0.484775\n",
       "next_pymnt_d              0.229230\n",
       "il_util                   0.126900\n",
       "mths_since_recent_inq     0.113330\n",
       "emp_title                 0.064332\n",
       "                            ...   \n",
       "total_pymnt_inv           0.000019\n",
       "total_pymnt               0.000019\n",
       "out_prncp_inv             0.000019\n",
       "out_prncp                 0.000019\n",
       "debt_settlement_flag      0.000019\n",
       "Length: 103, dtype: float64"
      ]
     },
     "execution_count": 4,
     "metadata": {},
     "output_type": "execute_result"
    }
   ],
   "source": [
    "thresh_count = len(data)*0.4\n",
    "data = data.dropna(thresh=thresh_count, axis=1)\n",
    "data.isnull().sum(axis=0).sort_values(ascending=False)/float(len(data)) "
   ]
  },
  {
   "cell_type": "code",
   "execution_count": 5,
   "metadata": {},
   "outputs": [],
   "source": [
    "data.to_csv('./dataset/loans_2017q2_s1.csv', index = False)"
   ]
  },
  {
   "cell_type": "markdown",
   "metadata": {},
   "source": [
    "## Step1. Object filter"
   ]
  },
  {
   "cell_type": "code",
   "execution_count": 57,
   "metadata": {},
   "outputs": [
    {
     "data": {
      "text/plain": [
       "float64    78\n",
       "object     25\n",
       "Name: count, dtype: int64"
      ]
     },
     "execution_count": 57,
     "metadata": {},
     "output_type": "execute_result"
    }
   ],
   "source": [
    "loans = pd.read_csv('./dataset/loans_2017q2_s1.csv',encoding='latin-1') \n",
    "loans.dtypes.value_counts()"
   ]
  },
  {
   "cell_type": "code",
   "execution_count": 58,
   "metadata": {},
   "outputs": [
    {
     "data": {
      "text/plain": [
       "float64    77\n",
       "object     25\n",
       "Name: count, dtype: int64"
      ]
     },
     "execution_count": 58,
     "metadata": {},
     "output_type": "execute_result"
    }
   ],
   "source": [
    "loans = loans.loc[:,loans.apply(pd.Series.nunique) != 1]\n",
    "loans.dtypes.value_counts()"
   ]
  },
  {
   "cell_type": "code",
   "execution_count": 59,
   "metadata": {},
   "outputs": [
    {
     "data": {
      "text/plain": [
       "next_pymnt_d            24173\n",
       "emp_title                6784\n",
       "emp_length               6699\n",
       "last_pymnt_d              124\n",
       "revol_util                 77\n",
       "term                        2\n",
       "addr_state                  2\n",
       "disbursement_method         2\n",
       "hardship_flag               2\n",
       "application_type            2\n",
       "last_credit_pull_d          2\n",
       "initial_list_status         2\n",
       "earliest_cr_line            2\n",
       "title                       2\n",
       "zip_code                    2\n",
       "int_rate                    2\n",
       "purpose                     2\n",
       "pymnt_plan                  2\n",
       "loan_status                 2\n",
       "issue_d                     2\n",
       "verification_status         2\n",
       "home_ownership              2\n",
       "sub_grade                   2\n",
       "grade                       2\n",
       "debt_settlement_flag        2\n",
       "dtype: int64"
      ]
     },
     "execution_count": 59,
     "metadata": {},
     "output_type": "execute_result"
    }
   ],
   "source": [
    "objectColumns = loans.select_dtypes(include=[\"object\"]).columns\n",
    "loans[objectColumns].isnull().sum().sort_values(ascending=False)"
   ]
  },
  {
   "cell_type": "code",
   "execution_count": 60,
   "metadata": {},
   "outputs": [],
   "source": [
    "loans['int_rate'] = loans['int_rate'].str.rstrip('%').astype('float')\n",
    "loans['revol_util'] = loans['revol_util'].str.rstrip('%').astype('float')"
   ]
  },
  {
   "cell_type": "code",
   "execution_count": 61,
   "metadata": {},
   "outputs": [
    {
     "name": "stdout",
     "output_type": "stream",
     "text": [
      "['sub_grade', 'emp_title', 'title', 'zip_code', 'addr_state', 'mths_since_last_delinq', 'initial_list_status', 'title', 'issue_d', 'last_pymnt_d', 'last_pymnt_amnt', 'next_pymnt_d', 'last_credit_pull_d', 'collection_recovery_fee', 'earliest_cr_line']\n"
     ]
    }
   ],
   "source": [
    "#删除对模型没有意义的列\n",
    "# sub_grade：与Grade的信息重复\n",
    "# emp_title ：缺失值较多，同时不能反映借款人收入或资产的真实情况\n",
    "# zip_code：地址邮编，邮编显示不全，没有意义\n",
    "# addr_state：申请地址所属州，不能反映借款人的偿债能力\n",
    "# last_credit_pull_d ：LendingClub平台最近一个提供贷款的时间，没有意义\n",
    "# policy_code ： 变量信息全为1\n",
    "# pymnt_plan 基本是n\n",
    "# title： title与purpose的信息重复，同时title的分类信息更加离散\n",
    "# next_pymnt_d : 下一个付款时间，没有意义\n",
    "# policy_code : 没有意义\n",
    "# collection_recovery_fee: 全为0，没有意义\n",
    "# earliest_cr_line : 记录的是借款人发生第一笔借款的时间\n",
    "# issue_d ： 贷款发行时间，这里提前向模型泄露了信息\n",
    "# last_pymnt_d、collection_recovery_fee、last_pymnt_amnt： 预测贷款违约模型是贷款前的风险控制手段，这些贷后信息都会影响我们训练模型的效果，在此将这些信息删除\n",
    "columns_to_drop = ['sub_grade', 'emp_title',  'title', 'zip_code', 'addr_state', \n",
    "             'mths_since_last_delinq' ,'initial_list_status','title','issue_d','last_pymnt_d','last_pymnt_amnt',\n",
    "             'next_pymnt_d','last_credit_pull_d','policy_code','collection_recovery_fee', 'earliest_cr_line']\n",
    "existing_columns = loans.columns\n",
    "columns_to_drop_existing = [column for column in columns_to_drop if column in existing_columns]\n",
    "print(columns_to_drop_existing)\n",
    "loans = loans.drop(columns_to_drop_existing, axis=1)"
   ]
  },
  {
   "cell_type": "code",
   "execution_count": 68,
   "metadata": {},
   "outputs": [
    {
     "name": "stdout",
     "output_type": "stream",
     "text": [
      "col= term , types= 2 , sample= [' 36 months' ' 36 months' ' 60 months']\n",
      "col= grade , types= 7 , sample= ['A' 'B' 'A']\n",
      "col= emp_length , types= 12 , sample= ['5 years' '1 year' '3 years']\n",
      "col= home_ownership , types= 5 , sample= ['MORTGAGE' 'MORTGAGE' 'MORTGAGE']\n",
      "col= verification_status , types= 3 , sample= ['Not Verified' 'Source Verified' 'Not Verified']\n",
      "col= loan_status , types= 7 , sample= ['Current' 'Current' 'Fully Paid']\n",
      "col= pymnt_plan , types= 2 , sample= ['n' 'n' 'n']\n",
      "col= purpose , types= 13 , sample= ['credit_card' 'debt_consolidation' 'car']\n",
      "col= application_type , types= 2 , sample= ['Individual' 'Individual' 'Individual']\n",
      "col= hardship_flag , types= 2 , sample= ['N' 'N' 'N']\n",
      "col= disbursement_method , types= 2 , sample= ['Cash' 'Cash' 'Cash']\n",
      "col= debt_settlement_flag , types= 2 , sample= ['N' 'N' 'N']\n"
     ]
    },
    {
     "data": {
      "text/plain": [
       "term                    0\n",
       "grade                   0\n",
       "emp_length              0\n",
       "home_ownership          0\n",
       "verification_status     0\n",
       "loan_status             0\n",
       "pymnt_plan              0\n",
       "purpose                 0\n",
       "application_type        0\n",
       "hardship_flag           0\n",
       "disbursement_method     0\n",
       "debt_settlement_flag    0\n",
       "dtype: int64"
      ]
     },
     "execution_count": 68,
     "metadata": {},
     "output_type": "execute_result"
    }
   ],
   "source": [
    "objectColumns = loans.select_dtypes(include=[\"object\"]).columns\n",
    "for col in objectColumns:\n",
    "    print(\"col=\",col,\", types=\", loans[col].nunique(),\", sample=\", loans[col].sample(3).values)\n",
    "loans[objectColumns].isnull().sum().sort_values(ascending=False)"
   ]
  },
  {
   "cell_type": "code",
   "execution_count": 66,
   "metadata": {},
   "outputs": [
    {
     "data": {
      "text/plain": [
       "term                    0\n",
       "grade                   0\n",
       "emp_length              0\n",
       "home_ownership          0\n",
       "verification_status     0\n",
       "loan_status             0\n",
       "pymnt_plan              0\n",
       "purpose                 0\n",
       "application_type        0\n",
       "hardship_flag           0\n",
       "disbursement_method     0\n",
       "debt_settlement_flag    0\n",
       "dtype: int64"
      ]
     },
     "execution_count": 66,
     "metadata": {},
     "output_type": "execute_result"
    }
   ],
   "source": [
    "loans[\"emp_length\"] = loans[\"emp_length\"].fillna(\"Unknown\")\n",
    "loans = loans.dropna(subset = objectColumns)\n",
    "loans[objectColumns].isnull().sum().sort_values(ascending=False)"
   ]
  },
  {
   "cell_type": "code",
   "execution_count": 67,
   "metadata": {},
   "outputs": [
    {
     "data": {
      "text/html": [
       "<div>\n",
       "<style scoped>\n",
       "    .dataframe tbody tr th:only-of-type {\n",
       "        vertical-align: middle;\n",
       "    }\n",
       "\n",
       "    .dataframe tbody tr th {\n",
       "        vertical-align: top;\n",
       "    }\n",
       "\n",
       "    .dataframe thead th {\n",
       "        text-align: right;\n",
       "    }\n",
       "</style>\n",
       "<table border=\"1\" class=\"dataframe\">\n",
       "  <thead>\n",
       "    <tr style=\"text-align: right;\">\n",
       "      <th></th>\n",
       "      <th>term</th>\n",
       "      <th>grade</th>\n",
       "      <th>emp_length</th>\n",
       "      <th>home_ownership</th>\n",
       "      <th>verification_status</th>\n",
       "      <th>loan_status</th>\n",
       "      <th>pymnt_plan</th>\n",
       "      <th>purpose</th>\n",
       "      <th>application_type</th>\n",
       "      <th>hardship_flag</th>\n",
       "      <th>disbursement_method</th>\n",
       "      <th>debt_settlement_flag</th>\n",
       "    </tr>\n",
       "  </thead>\n",
       "  <tbody>\n",
       "    <tr>\n",
       "      <th>0</th>\n",
       "      <td>36 months</td>\n",
       "      <td>A</td>\n",
       "      <td>10+ years</td>\n",
       "      <td>MORTGAGE</td>\n",
       "      <td>Source Verified</td>\n",
       "      <td>Current</td>\n",
       "      <td>n</td>\n",
       "      <td>debt_consolidation</td>\n",
       "      <td>Individual</td>\n",
       "      <td>N</td>\n",
       "      <td>Cash</td>\n",
       "      <td>N</td>\n",
       "    </tr>\n",
       "    <tr>\n",
       "      <th>1</th>\n",
       "      <td>36 months</td>\n",
       "      <td>B</td>\n",
       "      <td>&lt; 1 year</td>\n",
       "      <td>RENT</td>\n",
       "      <td>Not Verified</td>\n",
       "      <td>Current</td>\n",
       "      <td>n</td>\n",
       "      <td>credit_card</td>\n",
       "      <td>Individual</td>\n",
       "      <td>N</td>\n",
       "      <td>Cash</td>\n",
       "      <td>N</td>\n",
       "    </tr>\n",
       "    <tr>\n",
       "      <th>2</th>\n",
       "      <td>36 months</td>\n",
       "      <td>B</td>\n",
       "      <td>10+ years</td>\n",
       "      <td>MORTGAGE</td>\n",
       "      <td>Not Verified</td>\n",
       "      <td>Current</td>\n",
       "      <td>n</td>\n",
       "      <td>debt_consolidation</td>\n",
       "      <td>Individual</td>\n",
       "      <td>N</td>\n",
       "      <td>Cash</td>\n",
       "      <td>N</td>\n",
       "    </tr>\n",
       "    <tr>\n",
       "      <th>3</th>\n",
       "      <td>36 months</td>\n",
       "      <td>C</td>\n",
       "      <td>7 years</td>\n",
       "      <td>MORTGAGE</td>\n",
       "      <td>Not Verified</td>\n",
       "      <td>Fully Paid</td>\n",
       "      <td>n</td>\n",
       "      <td>home_improvement</td>\n",
       "      <td>Individual</td>\n",
       "      <td>N</td>\n",
       "      <td>Cash</td>\n",
       "      <td>N</td>\n",
       "    </tr>\n",
       "    <tr>\n",
       "      <th>4</th>\n",
       "      <td>36 months</td>\n",
       "      <td>A</td>\n",
       "      <td>7 years</td>\n",
       "      <td>MORTGAGE</td>\n",
       "      <td>Not Verified</td>\n",
       "      <td>Current</td>\n",
       "      <td>n</td>\n",
       "      <td>debt_consolidation</td>\n",
       "      <td>Individual</td>\n",
       "      <td>N</td>\n",
       "      <td>Cash</td>\n",
       "      <td>N</td>\n",
       "    </tr>\n",
       "  </tbody>\n",
       "</table>\n",
       "</div>"
      ],
      "text/plain": [
       "         term grade emp_length home_ownership verification_status loan_status  \\\n",
       "0   36 months     A  10+ years       MORTGAGE     Source Verified     Current   \n",
       "1   36 months     B   < 1 year           RENT        Not Verified     Current   \n",
       "2   36 months     B  10+ years       MORTGAGE        Not Verified     Current   \n",
       "3   36 months     C    7 years       MORTGAGE        Not Verified  Fully Paid   \n",
       "4   36 months     A    7 years       MORTGAGE        Not Verified     Current   \n",
       "\n",
       "  pymnt_plan             purpose application_type hardship_flag  \\\n",
       "0          n  debt_consolidation       Individual             N   \n",
       "1          n         credit_card       Individual             N   \n",
       "2          n  debt_consolidation       Individual             N   \n",
       "3          n    home_improvement       Individual             N   \n",
       "4          n  debt_consolidation       Individual             N   \n",
       "\n",
       "  disbursement_method debt_settlement_flag  \n",
       "0                Cash                    N  \n",
       "1                Cash                    N  \n",
       "2                Cash                    N  \n",
       "3                Cash                    N  \n",
       "4                Cash                    N  "
      ]
     },
     "execution_count": 67,
     "metadata": {},
     "output_type": "execute_result"
    }
   ],
   "source": [
    "loans.select_dtypes(include = ['object']).head()\n",
    "# term：贷款期限，表示贷款的还款周期长度，可能的取值为 \"36 months\"（36个月）或 \"60 months\"（60个月）。\n",
    "# grade：贷款评级，表示贷款的信用评级，可能的取值为 \"A\"、\"B\"、\"C\"、\"D\"、\"E\" 或 \"F\"，其中 \"A\" 表示最高评级，\"F\" 表示最低评级。\n",
    "# emp_length：就业年限，表示借款人的工作经验年限，可能的取值为 \"10+ years\"（10年以上）、\"2 years\"（2年）、\"3 years\"（3年）等。\n",
    "# home_ownership：住所所有权，表示借款人的住房所有情况，可能的取值为 \"RENT\"（租赁）、\"OWN\"（自有）、\"MORTGAGE\"（按揭）或 \"OTHER\"（其他）。\n",
    "# verification_status：收入验证状态，表示借款人的收入是否经过验证，可能的取值为 \"Verified\"（已验证）、\"Source Verified\"（来源已验证）或 \"Not Verified\"（未验证）。\n",
    "# *loan_status：贷款状态，表示贷款的当前状态，可能的取值包括 \"Fully Paid\"（已全额还清）、\"Charged Off\"（已冲销）等。\n",
    "# pymnt_plan：还款计划，表示借款人是否有特定的还款计划，可能的取值为 \"y\"（是）或 \"n\"（否）。\n",
    "# purpose：贷款目的，表示借款人借款的目的，可能的取值包括 \"debt_consolidation\"（债务合并）、\"credit_card\"（信用卡）、\"home_improvement\"（家庭装修）等。\n",
    "# application_type：申请类型，表示借款人的贷款申请类型，可能的取值为 \"Individual\"（个人）或 \"Joint App\"（联合申请）。\n",
    "# hardship_flag：困难标志，表示借款人是否遇到困难情况，可能的取值为 \"Y\"（是）或 \"N\"（否）。\n",
    "# disbursement_method：放款方式，表示贷款的放款方式，可能的取值为 \"Cash\"（现金）或 \"DirectPay\"（直接支付）。\n",
    "# debt_settlement_flag：债务结算标志，表示贷款是否进行债务结算，可能的取值为 \"Y\"（是）或 \"N\"（否）。"
   ]
  },
  {
   "cell_type": "code",
   "execution_count": 70,
   "metadata": {},
   "outputs": [
    {
     "name": "stdout",
     "output_type": "stream",
     "text": [
      "col= term , n_unique= 2 , unique= [' 36 months' ' 60 months']\n",
      "col= grade , n_unique= 7 , unique= ['A' 'B' 'C' 'D' 'F' 'E' 'G']\n",
      "col= emp_length , n_unique= 12 , unique= ['10+ years' '< 1 year' '7 years' 'Unknown' '2 years' '1 year' '3 years'\n",
      " '9 years' '8 years' '5 years' '6 years' '4 years']\n",
      "col= home_ownership , n_unique= 5 , unique= ['MORTGAGE' 'RENT' 'OWN' 'ANY' 'NONE']\n",
      "col= verification_status , n_unique= 3 , unique= ['Source Verified' 'Not Verified' 'Verified']\n",
      "col= loan_status , n_unique= 7 , unique= ['Current' 'Fully Paid' 'Charged Off' 'In Grace Period'\n",
      " 'Late (31-120 days)' 'Late (16-30 days)' 'Default']\n",
      "col= pymnt_plan , n_unique= 2 , unique= ['n' 'y']\n",
      "col= purpose , n_unique= 13 , unique= ['debt_consolidation' 'credit_card' 'home_improvement' 'vacation' 'house'\n",
      " 'other' 'major_purchase' 'car' 'medical' 'small_business' 'moving'\n",
      " 'renewable_energy' 'wedding']\n",
      "col= application_type , n_unique= 2 , unique= ['Individual' 'Joint App']\n",
      "col= hardship_flag , n_unique= 2 , unique= ['N' 'Y']\n",
      "col= disbursement_method , n_unique= 2 , unique= ['Cash' 'DirectPay']\n",
      "col= debt_settlement_flag , n_unique= 2 , unique= ['N' 'Y']\n"
     ]
    }
   ],
   "source": [
    "objectColumns = loans.select_dtypes(include=[\"object\"]).columns\n",
    "for col in objectColumns:\n",
    "    print(\"col=\",col,\", n_unique=\", loans[col].nunique(),\", unique=\", loans[col].unique())"
   ]
  },
  {
   "cell_type": "code",
   "execution_count": 71,
   "metadata": {},
   "outputs": [],
   "source": [
    "loans.to_csv('./dataset/loans_2017q2_s2.csv', index = False)"
   ]
  },
  {
   "cell_type": "markdown",
   "metadata": {},
   "source": [
    "## Step2 Float filter"
   ]
  },
  {
   "cell_type": "code",
   "execution_count": 72,
   "metadata": {},
   "outputs": [],
   "source": [
    "loans = pd.read_csv('./dataset/loans_2017q2_s2.csv',encoding='latin-1') "
   ]
  },
  {
   "cell_type": "code",
   "execution_count": 73,
   "metadata": {},
   "outputs": [
    {
     "data": {
      "text/plain": [
       "il_util                       13380\n",
       "mths_since_recent_inq         11949\n",
       "num_tl_120dpd_2m               5278\n",
       "mo_sin_old_il_acct             2652\n",
       "mths_since_rcnt_il             2652\n",
       "                              ...  \n",
       "tot_cur_bal                       0\n",
       "tot_coll_amt                      0\n",
       "acc_now_delinq                    0\n",
       "collections_12_mths_ex_med        0\n",
       "total_il_high_credit_limit        0\n",
       "Length: 76, dtype: int64"
      ]
     },
     "execution_count": 73,
     "metadata": {},
     "output_type": "execute_result"
    }
   ],
   "source": [
    "loans.select_dtypes(include=[np.number]).isnull().sum().sort_values(ascending=False)"
   ]
  },
  {
   "cell_type": "code",
   "execution_count": 74,
   "metadata": {},
   "outputs": [
    {
     "name": "stdout",
     "output_type": "stream",
     "text": [
      "Index(['loan_amnt', 'funded_amnt', 'funded_amnt_inv', 'int_rate',\n",
      "       'installment', 'annual_inc', 'dti', 'delinq_2yrs', 'inq_last_6mths',\n",
      "       'open_acc', 'pub_rec', 'revol_bal', 'revol_util', 'total_acc',\n",
      "       'out_prncp', 'out_prncp_inv', 'total_pymnt', 'total_pymnt_inv',\n",
      "       'total_rec_prncp', 'total_rec_int', 'total_rec_late_fee', 'recoveries',\n",
      "       'collections_12_mths_ex_med', 'acc_now_delinq', 'tot_coll_amt',\n",
      "       'tot_cur_bal', 'open_acc_6m', 'open_act_il', 'open_il_12m',\n",
      "       'open_il_24m', 'mths_since_rcnt_il', 'total_bal_il', 'il_util',\n",
      "       'open_rv_12m', 'open_rv_24m', 'max_bal_bc', 'all_util',\n",
      "       'total_rev_hi_lim', 'inq_fi', 'total_cu_tl', 'inq_last_12m',\n",
      "       'acc_open_past_24mths', 'avg_cur_bal', 'bc_open_to_buy', 'bc_util',\n",
      "       'chargeoff_within_12_mths', 'delinq_amnt', 'mo_sin_old_il_acct',\n",
      "       'mo_sin_old_rev_tl_op', 'mo_sin_rcnt_rev_tl_op', 'mo_sin_rcnt_tl',\n",
      "       'mort_acc', 'mths_since_recent_bc', 'mths_since_recent_inq',\n",
      "       'num_accts_ever_120_pd', 'num_actv_bc_tl', 'num_actv_rev_tl',\n",
      "       'num_bc_sats', 'num_bc_tl', 'num_il_tl', 'num_op_rev_tl',\n",
      "       'num_rev_accts', 'num_rev_tl_bal_gt_0', 'num_sats', 'num_tl_120dpd_2m',\n",
      "       'num_tl_30dpd', 'num_tl_90g_dpd_24m', 'num_tl_op_past_12m',\n",
      "       'pct_tl_nvr_dlq', 'percent_bc_gt_75', 'pub_rec_bankruptcies',\n",
      "       'tax_liens', 'tot_hi_cred_lim', 'total_bal_ex_mort', 'total_bc_limit',\n",
      "       'total_il_high_credit_limit'],\n",
      "      dtype='object')\n"
     ]
    },
    {
     "data": {
      "text/plain": [
       "loan_amnt                     0\n",
       "mo_sin_old_rev_tl_op          0\n",
       "num_actv_bc_tl                0\n",
       "num_accts_ever_120_pd         0\n",
       "mths_since_recent_inq         0\n",
       "                             ..\n",
       "tot_coll_amt                  0\n",
       "acc_now_delinq                0\n",
       "collections_12_mths_ex_med    0\n",
       "recoveries                    0\n",
       "total_il_high_credit_limit    0\n",
       "Length: 76, dtype: int64"
      ]
     },
     "execution_count": 74,
     "metadata": {},
     "output_type": "execute_result"
    }
   ],
   "source": [
    "numColumns = loans.select_dtypes(include=[np.number]).columns\n",
    "print(numColumns)\n",
    "for column in numColumns:\n",
    "    mean_value = loans[column].mean()\n",
    "    loans[column].fillna(mean_value, inplace=True)\n",
    "loans.select_dtypes(include=[np.number]).isnull().sum().sort_values(ascending=False)"
   ]
  },
  {
   "cell_type": "code",
   "execution_count": 75,
   "metadata": {},
   "outputs": [
    {
     "data": {
      "text/plain": [
       "loan_amnt                0\n",
       "funded_amnt              0\n",
       "num_actv_bc_tl           0\n",
       "num_accts_ever_120_pd    0\n",
       "mths_since_recent_inq    0\n",
       "                        ..\n",
       "total_rec_int            0\n",
       "total_rec_prncp          0\n",
       "total_pymnt_inv          0\n",
       "total_pymnt              0\n",
       "debt_settlement_flag     0\n",
       "Length: 88, dtype: int64"
      ]
     },
     "execution_count": 75,
     "metadata": {},
     "output_type": "execute_result"
    }
   ],
   "source": [
    "loans.isnull().sum().sort_values(ascending=False)"
   ]
  },
  {
   "cell_type": "code",
   "execution_count": 76,
   "metadata": {},
   "outputs": [],
   "source": [
    "loans.to_csv('./dataset/loans_2017q2_s3.csv', index = False)"
   ]
  },
  {
   "cell_type": "markdown",
   "metadata": {},
   "source": [
    "## Step3. Feature Abstraction"
   ]
  },
  {
   "cell_type": "code",
   "execution_count": 76,
   "metadata": {},
   "outputs": [
    {
     "data": {
      "text/html": [
       "<div>\n",
       "<style scoped>\n",
       "    .dataframe tbody tr th:only-of-type {\n",
       "        vertical-align: middle;\n",
       "    }\n",
       "\n",
       "    .dataframe tbody tr th {\n",
       "        vertical-align: top;\n",
       "    }\n",
       "\n",
       "    .dataframe thead th {\n",
       "        text-align: right;\n",
       "    }\n",
       "</style>\n",
       "<table border=\"1\" class=\"dataframe\">\n",
       "  <thead>\n",
       "    <tr style=\"text-align: right;\">\n",
       "      <th></th>\n",
       "      <th>loan_amnt</th>\n",
       "      <th>funded_amnt</th>\n",
       "      <th>funded_amnt_inv</th>\n",
       "      <th>term</th>\n",
       "      <th>int_rate</th>\n",
       "      <th>installment</th>\n",
       "      <th>grade</th>\n",
       "      <th>emp_length</th>\n",
       "      <th>home_ownership</th>\n",
       "      <th>annual_inc</th>\n",
       "      <th>verification_status</th>\n",
       "      <th>loan_status</th>\n",
       "      <th>pymnt_plan</th>\n",
       "      <th>purpose</th>\n",
       "      <th>dti</th>\n",
       "      <th>delinq_2yrs</th>\n",
       "      <th>inq_last_6mths</th>\n",
       "      <th>open_acc</th>\n",
       "      <th>pub_rec</th>\n",
       "      <th>revol_bal</th>\n",
       "      <th>revol_util</th>\n",
       "      <th>total_acc</th>\n",
       "      <th>out_prncp</th>\n",
       "      <th>out_prncp_inv</th>\n",
       "      <th>total_pymnt</th>\n",
       "      <th>total_pymnt_inv</th>\n",
       "      <th>total_rec_prncp</th>\n",
       "      <th>total_rec_int</th>\n",
       "      <th>total_rec_late_fee</th>\n",
       "      <th>recoveries</th>\n",
       "      <th>collections_12_mths_ex_med</th>\n",
       "      <th>application_type</th>\n",
       "      <th>acc_now_delinq</th>\n",
       "      <th>tot_coll_amt</th>\n",
       "      <th>tot_cur_bal</th>\n",
       "      <th>open_acc_6m</th>\n",
       "      <th>open_act_il</th>\n",
       "      <th>open_il_12m</th>\n",
       "      <th>open_il_24m</th>\n",
       "      <th>mths_since_rcnt_il</th>\n",
       "      <th>total_bal_il</th>\n",
       "      <th>il_util</th>\n",
       "      <th>open_rv_12m</th>\n",
       "      <th>open_rv_24m</th>\n",
       "      <th>max_bal_bc</th>\n",
       "      <th>all_util</th>\n",
       "      <th>total_rev_hi_lim</th>\n",
       "      <th>inq_fi</th>\n",
       "      <th>total_cu_tl</th>\n",
       "      <th>inq_last_12m</th>\n",
       "      <th>acc_open_past_24mths</th>\n",
       "      <th>avg_cur_bal</th>\n",
       "      <th>bc_open_to_buy</th>\n",
       "      <th>bc_util</th>\n",
       "      <th>chargeoff_within_12_mths</th>\n",
       "      <th>delinq_amnt</th>\n",
       "      <th>mo_sin_old_il_acct</th>\n",
       "      <th>mo_sin_old_rev_tl_op</th>\n",
       "      <th>mo_sin_rcnt_rev_tl_op</th>\n",
       "      <th>mo_sin_rcnt_tl</th>\n",
       "      <th>mort_acc</th>\n",
       "      <th>mths_since_recent_bc</th>\n",
       "      <th>mths_since_recent_inq</th>\n",
       "      <th>num_accts_ever_120_pd</th>\n",
       "      <th>num_actv_bc_tl</th>\n",
       "      <th>num_actv_rev_tl</th>\n",
       "      <th>num_bc_sats</th>\n",
       "      <th>num_bc_tl</th>\n",
       "      <th>num_il_tl</th>\n",
       "      <th>num_op_rev_tl</th>\n",
       "      <th>num_rev_accts</th>\n",
       "      <th>num_rev_tl_bal_gt_0</th>\n",
       "      <th>num_sats</th>\n",
       "      <th>num_tl_120dpd_2m</th>\n",
       "      <th>num_tl_30dpd</th>\n",
       "      <th>num_tl_90g_dpd_24m</th>\n",
       "      <th>num_tl_op_past_12m</th>\n",
       "      <th>pct_tl_nvr_dlq</th>\n",
       "      <th>percent_bc_gt_75</th>\n",
       "      <th>pub_rec_bankruptcies</th>\n",
       "      <th>tax_liens</th>\n",
       "      <th>tot_hi_cred_lim</th>\n",
       "      <th>total_bal_ex_mort</th>\n",
       "      <th>total_bc_limit</th>\n",
       "      <th>total_il_high_credit_limit</th>\n",
       "      <th>hardship_flag</th>\n",
       "      <th>disbursement_method</th>\n",
       "      <th>debt_settlement_flag</th>\n",
       "    </tr>\n",
       "  </thead>\n",
       "  <tbody>\n",
       "    <tr>\n",
       "      <th>0</th>\n",
       "      <td>7500.0</td>\n",
       "      <td>7500.0</td>\n",
       "      <td>7500.0</td>\n",
       "      <td>36 months</td>\n",
       "      <td>7.35</td>\n",
       "      <td>232.79</td>\n",
       "      <td>A</td>\n",
       "      <td>10+ years</td>\n",
       "      <td>MORTGAGE</td>\n",
       "      <td>113000.0</td>\n",
       "      <td>Source Verified</td>\n",
       "      <td>Current</td>\n",
       "      <td>n</td>\n",
       "      <td>debt_consolidation</td>\n",
       "      <td>21.43</td>\n",
       "      <td>0.0</td>\n",
       "      <td>0.0</td>\n",
       "      <td>7.0</td>\n",
       "      <td>0.0</td>\n",
       "      <td>30569.0</td>\n",
       "      <td>62.9</td>\n",
       "      <td>16.0</td>\n",
       "      <td>5180.67</td>\n",
       "      <td>5180.67</td>\n",
       "      <td>2785.820000</td>\n",
       "      <td>2785.82</td>\n",
       "      <td>2319.33</td>\n",
       "      <td>466.49</td>\n",
       "      <td>0.0</td>\n",
       "      <td>0.0</td>\n",
       "      <td>0.0</td>\n",
       "      <td>Individual</td>\n",
       "      <td>0.0</td>\n",
       "      <td>0.0</td>\n",
       "      <td>356811.0</td>\n",
       "      <td>0.0</td>\n",
       "      <td>3.0</td>\n",
       "      <td>1.0</td>\n",
       "      <td>4.0</td>\n",
       "      <td>12.0</td>\n",
       "      <td>60352.0</td>\n",
       "      <td>78.000000</td>\n",
       "      <td>0.0</td>\n",
       "      <td>1.0</td>\n",
       "      <td>25792.0</td>\n",
       "      <td>75.0</td>\n",
       "      <td>42600.0</td>\n",
       "      <td>1.0</td>\n",
       "      <td>4.0</td>\n",
       "      <td>0.0</td>\n",
       "      <td>5.0</td>\n",
       "      <td>50973.0</td>\n",
       "      <td>9208.0</td>\n",
       "      <td>56.511686</td>\n",
       "      <td>0.0</td>\n",
       "      <td>0.0</td>\n",
       "      <td>114.0</td>\n",
       "      <td>218.0</td>\n",
       "      <td>14.0</td>\n",
       "      <td>12.0</td>\n",
       "      <td>4.0</td>\n",
       "      <td>218.0</td>\n",
       "      <td>14.000000</td>\n",
       "      <td>0.0</td>\n",
       "      <td>1.0</td>\n",
       "      <td>3.0</td>\n",
       "      <td>1.0</td>\n",
       "      <td>1.0</td>\n",
       "      <td>9.0</td>\n",
       "      <td>3.0</td>\n",
       "      <td>3.0</td>\n",
       "      <td>3.0</td>\n",
       "      <td>7.0</td>\n",
       "      <td>0.0</td>\n",
       "      <td>0.0</td>\n",
       "      <td>0.0</td>\n",
       "      <td>1.0</td>\n",
       "      <td>100.0</td>\n",
       "      <td>0.0</td>\n",
       "      <td>0.0</td>\n",
       "      <td>0.0</td>\n",
       "      <td>417686.0</td>\n",
       "      <td>90921.0</td>\n",
       "      <td>35000.0</td>\n",
       "      <td>92511.0</td>\n",
       "      <td>N</td>\n",
       "      <td>Cash</td>\n",
       "      <td>N</td>\n",
       "    </tr>\n",
       "    <tr>\n",
       "      <th>1</th>\n",
       "      <td>20000.0</td>\n",
       "      <td>20000.0</td>\n",
       "      <td>20000.0</td>\n",
       "      <td>36 months</td>\n",
       "      <td>9.44</td>\n",
       "      <td>640.10</td>\n",
       "      <td>B</td>\n",
       "      <td>&lt; 1 year</td>\n",
       "      <td>RENT</td>\n",
       "      <td>70000.0</td>\n",
       "      <td>Not Verified</td>\n",
       "      <td>Current</td>\n",
       "      <td>n</td>\n",
       "      <td>credit_card</td>\n",
       "      <td>25.61</td>\n",
       "      <td>2.0</td>\n",
       "      <td>0.0</td>\n",
       "      <td>8.0</td>\n",
       "      <td>0.0</td>\n",
       "      <td>20589.0</td>\n",
       "      <td>81.7</td>\n",
       "      <td>14.0</td>\n",
       "      <td>10891.95</td>\n",
       "      <td>10891.95</td>\n",
       "      <td>10654.980000</td>\n",
       "      <td>10654.98</td>\n",
       "      <td>9108.05</td>\n",
       "      <td>1546.93</td>\n",
       "      <td>0.0</td>\n",
       "      <td>0.0</td>\n",
       "      <td>0.0</td>\n",
       "      <td>Individual</td>\n",
       "      <td>0.0</td>\n",
       "      <td>0.0</td>\n",
       "      <td>37895.0</td>\n",
       "      <td>1.0</td>\n",
       "      <td>2.0</td>\n",
       "      <td>0.0</td>\n",
       "      <td>0.0</td>\n",
       "      <td>27.0</td>\n",
       "      <td>17306.0</td>\n",
       "      <td>41.000000</td>\n",
       "      <td>1.0</td>\n",
       "      <td>3.0</td>\n",
       "      <td>19372.0</td>\n",
       "      <td>56.0</td>\n",
       "      <td>25200.0</td>\n",
       "      <td>0.0</td>\n",
       "      <td>0.0</td>\n",
       "      <td>0.0</td>\n",
       "      <td>3.0</td>\n",
       "      <td>5414.0</td>\n",
       "      <td>2403.0</td>\n",
       "      <td>89.500000</td>\n",
       "      <td>0.0</td>\n",
       "      <td>0.0</td>\n",
       "      <td>160.0</td>\n",
       "      <td>298.0</td>\n",
       "      <td>6.0</td>\n",
       "      <td>6.0</td>\n",
       "      <td>0.0</td>\n",
       "      <td>6.0</td>\n",
       "      <td>7.104928</td>\n",
       "      <td>0.0</td>\n",
       "      <td>2.0</td>\n",
       "      <td>3.0</td>\n",
       "      <td>3.0</td>\n",
       "      <td>5.0</td>\n",
       "      <td>3.0</td>\n",
       "      <td>6.0</td>\n",
       "      <td>11.0</td>\n",
       "      <td>3.0</td>\n",
       "      <td>8.0</td>\n",
       "      <td>0.0</td>\n",
       "      <td>0.0</td>\n",
       "      <td>0.0</td>\n",
       "      <td>1.0</td>\n",
       "      <td>84.6</td>\n",
       "      <td>33.3</td>\n",
       "      <td>0.0</td>\n",
       "      <td>0.0</td>\n",
       "      <td>67717.0</td>\n",
       "      <td>37895.0</td>\n",
       "      <td>22900.0</td>\n",
       "      <td>42517.0</td>\n",
       "      <td>N</td>\n",
       "      <td>Cash</td>\n",
       "      <td>N</td>\n",
       "    </tr>\n",
       "    <tr>\n",
       "      <th>2</th>\n",
       "      <td>12000.0</td>\n",
       "      <td>12000.0</td>\n",
       "      <td>12000.0</td>\n",
       "      <td>36 months</td>\n",
       "      <td>9.44</td>\n",
       "      <td>384.06</td>\n",
       "      <td>B</td>\n",
       "      <td>10+ years</td>\n",
       "      <td>MORTGAGE</td>\n",
       "      <td>70000.0</td>\n",
       "      <td>Not Verified</td>\n",
       "      <td>Current</td>\n",
       "      <td>n</td>\n",
       "      <td>debt_consolidation</td>\n",
       "      <td>18.34</td>\n",
       "      <td>0.0</td>\n",
       "      <td>0.0</td>\n",
       "      <td>14.0</td>\n",
       "      <td>1.0</td>\n",
       "      <td>15025.0</td>\n",
       "      <td>58.2</td>\n",
       "      <td>30.0</td>\n",
       "      <td>8369.67</td>\n",
       "      <td>8369.67</td>\n",
       "      <td>4592.990000</td>\n",
       "      <td>4592.99</td>\n",
       "      <td>3630.33</td>\n",
       "      <td>962.66</td>\n",
       "      <td>0.0</td>\n",
       "      <td>0.0</td>\n",
       "      <td>0.0</td>\n",
       "      <td>Individual</td>\n",
       "      <td>0.0</td>\n",
       "      <td>0.0</td>\n",
       "      <td>211227.0</td>\n",
       "      <td>0.0</td>\n",
       "      <td>1.0</td>\n",
       "      <td>0.0</td>\n",
       "      <td>0.0</td>\n",
       "      <td>41.0</td>\n",
       "      <td>12438.0</td>\n",
       "      <td>40.000000</td>\n",
       "      <td>2.0</td>\n",
       "      <td>3.0</td>\n",
       "      <td>5227.0</td>\n",
       "      <td>49.0</td>\n",
       "      <td>25800.0</td>\n",
       "      <td>0.0</td>\n",
       "      <td>0.0</td>\n",
       "      <td>2.0</td>\n",
       "      <td>4.0</td>\n",
       "      <td>15088.0</td>\n",
       "      <td>0.0</td>\n",
       "      <td>102.300000</td>\n",
       "      <td>0.0</td>\n",
       "      <td>0.0</td>\n",
       "      <td>160.0</td>\n",
       "      <td>238.0</td>\n",
       "      <td>10.0</td>\n",
       "      <td>10.0</td>\n",
       "      <td>6.0</td>\n",
       "      <td>29.0</td>\n",
       "      <td>11.000000</td>\n",
       "      <td>0.0</td>\n",
       "      <td>2.0</td>\n",
       "      <td>8.0</td>\n",
       "      <td>2.0</td>\n",
       "      <td>6.0</td>\n",
       "      <td>7.0</td>\n",
       "      <td>11.0</td>\n",
       "      <td>17.0</td>\n",
       "      <td>8.0</td>\n",
       "      <td>14.0</td>\n",
       "      <td>0.0</td>\n",
       "      <td>0.0</td>\n",
       "      <td>0.0</td>\n",
       "      <td>2.0</td>\n",
       "      <td>96.7</td>\n",
       "      <td>100.0</td>\n",
       "      <td>1.0</td>\n",
       "      <td>0.0</td>\n",
       "      <td>267482.0</td>\n",
       "      <td>27463.0</td>\n",
       "      <td>9200.0</td>\n",
       "      <td>30780.0</td>\n",
       "      <td>N</td>\n",
       "      <td>Cash</td>\n",
       "      <td>N</td>\n",
       "    </tr>\n",
       "    <tr>\n",
       "      <th>3</th>\n",
       "      <td>6025.0</td>\n",
       "      <td>6025.0</td>\n",
       "      <td>6025.0</td>\n",
       "      <td>36 months</td>\n",
       "      <td>15.05</td>\n",
       "      <td>209.01</td>\n",
       "      <td>C</td>\n",
       "      <td>7 years</td>\n",
       "      <td>MORTGAGE</td>\n",
       "      <td>46350.0</td>\n",
       "      <td>Not Verified</td>\n",
       "      <td>Fully Paid</td>\n",
       "      <td>n</td>\n",
       "      <td>home_improvement</td>\n",
       "      <td>8.88</td>\n",
       "      <td>0.0</td>\n",
       "      <td>0.0</td>\n",
       "      <td>11.0</td>\n",
       "      <td>0.0</td>\n",
       "      <td>12425.0</td>\n",
       "      <td>44.9</td>\n",
       "      <td>27.0</td>\n",
       "      <td>0.00</td>\n",
       "      <td>0.00</td>\n",
       "      <td>6578.749167</td>\n",
       "      <td>6578.75</td>\n",
       "      <td>6025.00</td>\n",
       "      <td>553.75</td>\n",
       "      <td>0.0</td>\n",
       "      <td>0.0</td>\n",
       "      <td>0.0</td>\n",
       "      <td>Individual</td>\n",
       "      <td>0.0</td>\n",
       "      <td>0.0</td>\n",
       "      <td>121311.0</td>\n",
       "      <td>1.0</td>\n",
       "      <td>0.0</td>\n",
       "      <td>1.0</td>\n",
       "      <td>2.0</td>\n",
       "      <td>10.0</td>\n",
       "      <td>0.0</td>\n",
       "      <td>68.733097</td>\n",
       "      <td>1.0</td>\n",
       "      <td>2.0</td>\n",
       "      <td>1950.0</td>\n",
       "      <td>45.0</td>\n",
       "      <td>27700.0</td>\n",
       "      <td>1.0</td>\n",
       "      <td>5.0</td>\n",
       "      <td>3.0</td>\n",
       "      <td>6.0</td>\n",
       "      <td>11028.0</td>\n",
       "      <td>11017.0</td>\n",
       "      <td>37.400000</td>\n",
       "      <td>0.0</td>\n",
       "      <td>0.0</td>\n",
       "      <td>86.0</td>\n",
       "      <td>180.0</td>\n",
       "      <td>8.0</td>\n",
       "      <td>2.0</td>\n",
       "      <td>2.0</td>\n",
       "      <td>8.0</td>\n",
       "      <td>8.000000</td>\n",
       "      <td>0.0</td>\n",
       "      <td>6.0</td>\n",
       "      <td>9.0</td>\n",
       "      <td>6.0</td>\n",
       "      <td>16.0</td>\n",
       "      <td>4.0</td>\n",
       "      <td>9.0</td>\n",
       "      <td>21.0</td>\n",
       "      <td>9.0</td>\n",
       "      <td>11.0</td>\n",
       "      <td>0.0</td>\n",
       "      <td>0.0</td>\n",
       "      <td>0.0</td>\n",
       "      <td>4.0</td>\n",
       "      <td>100.0</td>\n",
       "      <td>0.0</td>\n",
       "      <td>0.0</td>\n",
       "      <td>0.0</td>\n",
       "      <td>137700.0</td>\n",
       "      <td>12425.0</td>\n",
       "      <td>17600.0</td>\n",
       "      <td>0.0</td>\n",
       "      <td>N</td>\n",
       "      <td>Cash</td>\n",
       "      <td>N</td>\n",
       "    </tr>\n",
       "    <tr>\n",
       "      <th>4</th>\n",
       "      <td>4000.0</td>\n",
       "      <td>4000.0</td>\n",
       "      <td>4000.0</td>\n",
       "      <td>36 months</td>\n",
       "      <td>7.97</td>\n",
       "      <td>125.30</td>\n",
       "      <td>A</td>\n",
       "      <td>7 years</td>\n",
       "      <td>MORTGAGE</td>\n",
       "      <td>50000.0</td>\n",
       "      <td>Not Verified</td>\n",
       "      <td>Current</td>\n",
       "      <td>n</td>\n",
       "      <td>debt_consolidation</td>\n",
       "      <td>13.03</td>\n",
       "      <td>0.0</td>\n",
       "      <td>0.0</td>\n",
       "      <td>11.0</td>\n",
       "      <td>0.0</td>\n",
       "      <td>3870.0</td>\n",
       "      <td>34.6</td>\n",
       "      <td>11.0</td>\n",
       "      <td>2667.63</td>\n",
       "      <td>2667.63</td>\n",
       "      <td>1599.170000</td>\n",
       "      <td>1599.17</td>\n",
       "      <td>1332.37</td>\n",
       "      <td>266.80</td>\n",
       "      <td>0.0</td>\n",
       "      <td>0.0</td>\n",
       "      <td>0.0</td>\n",
       "      <td>Individual</td>\n",
       "      <td>0.0</td>\n",
       "      <td>133.0</td>\n",
       "      <td>162678.0</td>\n",
       "      <td>0.0</td>\n",
       "      <td>1.0</td>\n",
       "      <td>0.0</td>\n",
       "      <td>0.0</td>\n",
       "      <td>36.0</td>\n",
       "      <td>6717.0</td>\n",
       "      <td>43.000000</td>\n",
       "      <td>1.0</td>\n",
       "      <td>1.0</td>\n",
       "      <td>1913.0</td>\n",
       "      <td>40.0</td>\n",
       "      <td>11200.0</td>\n",
       "      <td>0.0</td>\n",
       "      <td>0.0</td>\n",
       "      <td>1.0</td>\n",
       "      <td>2.0</td>\n",
       "      <td>14789.0</td>\n",
       "      <td>1657.0</td>\n",
       "      <td>66.900000</td>\n",
       "      <td>0.0</td>\n",
       "      <td>0.0</td>\n",
       "      <td>36.0</td>\n",
       "      <td>50.0</td>\n",
       "      <td>8.0</td>\n",
       "      <td>8.0</td>\n",
       "      <td>2.0</td>\n",
       "      <td>8.0</td>\n",
       "      <td>9.000000</td>\n",
       "      <td>0.0</td>\n",
       "      <td>2.0</td>\n",
       "      <td>5.0</td>\n",
       "      <td>2.0</td>\n",
       "      <td>2.0</td>\n",
       "      <td>1.0</td>\n",
       "      <td>8.0</td>\n",
       "      <td>8.0</td>\n",
       "      <td>5.0</td>\n",
       "      <td>11.0</td>\n",
       "      <td>0.0</td>\n",
       "      <td>0.0</td>\n",
       "      <td>0.0</td>\n",
       "      <td>2.0</td>\n",
       "      <td>90.9</td>\n",
       "      <td>50.0</td>\n",
       "      <td>0.0</td>\n",
       "      <td>0.0</td>\n",
       "      <td>191473.0</td>\n",
       "      <td>10587.0</td>\n",
       "      <td>5000.0</td>\n",
       "      <td>15523.0</td>\n",
       "      <td>N</td>\n",
       "      <td>Cash</td>\n",
       "      <td>N</td>\n",
       "    </tr>\n",
       "  </tbody>\n",
       "</table>\n",
       "</div>"
      ],
      "text/plain": [
       "   loan_amnt  funded_amnt  funded_amnt_inv        term  int_rate  installment  \\\n",
       "0     7500.0       7500.0           7500.0   36 months      7.35       232.79   \n",
       "1    20000.0      20000.0          20000.0   36 months      9.44       640.10   \n",
       "2    12000.0      12000.0          12000.0   36 months      9.44       384.06   \n",
       "3     6025.0       6025.0           6025.0   36 months     15.05       209.01   \n",
       "4     4000.0       4000.0           4000.0   36 months      7.97       125.30   \n",
       "\n",
       "  grade emp_length home_ownership  annual_inc verification_status loan_status  \\\n",
       "0     A  10+ years       MORTGAGE    113000.0     Source Verified     Current   \n",
       "1     B   < 1 year           RENT     70000.0        Not Verified     Current   \n",
       "2     B  10+ years       MORTGAGE     70000.0        Not Verified     Current   \n",
       "3     C    7 years       MORTGAGE     46350.0        Not Verified  Fully Paid   \n",
       "4     A    7 years       MORTGAGE     50000.0        Not Verified     Current   \n",
       "\n",
       "  pymnt_plan             purpose    dti  delinq_2yrs  inq_last_6mths  \\\n",
       "0          n  debt_consolidation  21.43          0.0             0.0   \n",
       "1          n         credit_card  25.61          2.0             0.0   \n",
       "2          n  debt_consolidation  18.34          0.0             0.0   \n",
       "3          n    home_improvement   8.88          0.0             0.0   \n",
       "4          n  debt_consolidation  13.03          0.0             0.0   \n",
       "\n",
       "   open_acc  pub_rec  revol_bal  revol_util  total_acc  out_prncp  \\\n",
       "0       7.0      0.0    30569.0        62.9       16.0    5180.67   \n",
       "1       8.0      0.0    20589.0        81.7       14.0   10891.95   \n",
       "2      14.0      1.0    15025.0        58.2       30.0    8369.67   \n",
       "3      11.0      0.0    12425.0        44.9       27.0       0.00   \n",
       "4      11.0      0.0     3870.0        34.6       11.0    2667.63   \n",
       "\n",
       "   out_prncp_inv   total_pymnt  total_pymnt_inv  total_rec_prncp  \\\n",
       "0        5180.67   2785.820000          2785.82          2319.33   \n",
       "1       10891.95  10654.980000         10654.98          9108.05   \n",
       "2        8369.67   4592.990000          4592.99          3630.33   \n",
       "3           0.00   6578.749167          6578.75          6025.00   \n",
       "4        2667.63   1599.170000          1599.17          1332.37   \n",
       "\n",
       "   total_rec_int  total_rec_late_fee  recoveries  collections_12_mths_ex_med  \\\n",
       "0         466.49                 0.0         0.0                         0.0   \n",
       "1        1546.93                 0.0         0.0                         0.0   \n",
       "2         962.66                 0.0         0.0                         0.0   \n",
       "3         553.75                 0.0         0.0                         0.0   \n",
       "4         266.80                 0.0         0.0                         0.0   \n",
       "\n",
       "  application_type  acc_now_delinq  tot_coll_amt  tot_cur_bal  open_acc_6m  \\\n",
       "0       Individual             0.0           0.0     356811.0          0.0   \n",
       "1       Individual             0.0           0.0      37895.0          1.0   \n",
       "2       Individual             0.0           0.0     211227.0          0.0   \n",
       "3       Individual             0.0           0.0     121311.0          1.0   \n",
       "4       Individual             0.0         133.0     162678.0          0.0   \n",
       "\n",
       "   open_act_il  open_il_12m  open_il_24m  mths_since_rcnt_il  total_bal_il  \\\n",
       "0          3.0          1.0          4.0                12.0       60352.0   \n",
       "1          2.0          0.0          0.0                27.0       17306.0   \n",
       "2          1.0          0.0          0.0                41.0       12438.0   \n",
       "3          0.0          1.0          2.0                10.0           0.0   \n",
       "4          1.0          0.0          0.0                36.0        6717.0   \n",
       "\n",
       "     il_util  open_rv_12m  open_rv_24m  max_bal_bc  all_util  \\\n",
       "0  78.000000          0.0          1.0     25792.0      75.0   \n",
       "1  41.000000          1.0          3.0     19372.0      56.0   \n",
       "2  40.000000          2.0          3.0      5227.0      49.0   \n",
       "3  68.733097          1.0          2.0      1950.0      45.0   \n",
       "4  43.000000          1.0          1.0      1913.0      40.0   \n",
       "\n",
       "   total_rev_hi_lim  inq_fi  total_cu_tl  inq_last_12m  acc_open_past_24mths  \\\n",
       "0           42600.0     1.0          4.0           0.0                   5.0   \n",
       "1           25200.0     0.0          0.0           0.0                   3.0   \n",
       "2           25800.0     0.0          0.0           2.0                   4.0   \n",
       "3           27700.0     1.0          5.0           3.0                   6.0   \n",
       "4           11200.0     0.0          0.0           1.0                   2.0   \n",
       "\n",
       "   avg_cur_bal  bc_open_to_buy     bc_util  chargeoff_within_12_mths  \\\n",
       "0      50973.0          9208.0   56.511686                       0.0   \n",
       "1       5414.0          2403.0   89.500000                       0.0   \n",
       "2      15088.0             0.0  102.300000                       0.0   \n",
       "3      11028.0         11017.0   37.400000                       0.0   \n",
       "4      14789.0          1657.0   66.900000                       0.0   \n",
       "\n",
       "   delinq_amnt  mo_sin_old_il_acct  mo_sin_old_rev_tl_op  \\\n",
       "0          0.0               114.0                 218.0   \n",
       "1          0.0               160.0                 298.0   \n",
       "2          0.0               160.0                 238.0   \n",
       "3          0.0                86.0                 180.0   \n",
       "4          0.0                36.0                  50.0   \n",
       "\n",
       "   mo_sin_rcnt_rev_tl_op  mo_sin_rcnt_tl  mort_acc  mths_since_recent_bc  \\\n",
       "0                   14.0            12.0       4.0                 218.0   \n",
       "1                    6.0             6.0       0.0                   6.0   \n",
       "2                   10.0            10.0       6.0                  29.0   \n",
       "3                    8.0             2.0       2.0                   8.0   \n",
       "4                    8.0             8.0       2.0                   8.0   \n",
       "\n",
       "   mths_since_recent_inq  num_accts_ever_120_pd  num_actv_bc_tl  \\\n",
       "0              14.000000                    0.0             1.0   \n",
       "1               7.104928                    0.0             2.0   \n",
       "2              11.000000                    0.0             2.0   \n",
       "3               8.000000                    0.0             6.0   \n",
       "4               9.000000                    0.0             2.0   \n",
       "\n",
       "   num_actv_rev_tl  num_bc_sats  num_bc_tl  num_il_tl  num_op_rev_tl  \\\n",
       "0              3.0          1.0        1.0        9.0            3.0   \n",
       "1              3.0          3.0        5.0        3.0            6.0   \n",
       "2              8.0          2.0        6.0        7.0           11.0   \n",
       "3              9.0          6.0       16.0        4.0            9.0   \n",
       "4              5.0          2.0        2.0        1.0            8.0   \n",
       "\n",
       "   num_rev_accts  num_rev_tl_bal_gt_0  num_sats  num_tl_120dpd_2m  \\\n",
       "0            3.0                  3.0       7.0               0.0   \n",
       "1           11.0                  3.0       8.0               0.0   \n",
       "2           17.0                  8.0      14.0               0.0   \n",
       "3           21.0                  9.0      11.0               0.0   \n",
       "4            8.0                  5.0      11.0               0.0   \n",
       "\n",
       "   num_tl_30dpd  num_tl_90g_dpd_24m  num_tl_op_past_12m  pct_tl_nvr_dlq  \\\n",
       "0           0.0                 0.0                 1.0           100.0   \n",
       "1           0.0                 0.0                 1.0            84.6   \n",
       "2           0.0                 0.0                 2.0            96.7   \n",
       "3           0.0                 0.0                 4.0           100.0   \n",
       "4           0.0                 0.0                 2.0            90.9   \n",
       "\n",
       "   percent_bc_gt_75  pub_rec_bankruptcies  tax_liens  tot_hi_cred_lim  \\\n",
       "0               0.0                   0.0        0.0         417686.0   \n",
       "1              33.3                   0.0        0.0          67717.0   \n",
       "2             100.0                   1.0        0.0         267482.0   \n",
       "3               0.0                   0.0        0.0         137700.0   \n",
       "4              50.0                   0.0        0.0         191473.0   \n",
       "\n",
       "   total_bal_ex_mort  total_bc_limit  total_il_high_credit_limit  \\\n",
       "0            90921.0         35000.0                     92511.0   \n",
       "1            37895.0         22900.0                     42517.0   \n",
       "2            27463.0          9200.0                     30780.0   \n",
       "3            12425.0         17600.0                         0.0   \n",
       "4            10587.0          5000.0                     15523.0   \n",
       "\n",
       "  hardship_flag disbursement_method debt_settlement_flag  \n",
       "0             N                Cash                    N  \n",
       "1             N                Cash                    N  \n",
       "2             N                Cash                    N  \n",
       "3             N                Cash                    N  \n",
       "4             N                Cash                    N  "
      ]
     },
     "execution_count": 76,
     "metadata": {},
     "output_type": "execute_result"
    }
   ],
   "source": [
    "loans =  pd.read_csv('./dataset/loans_2017q2_s3.csv' , encoding='latin-1')\n",
    "loans.head()"
   ]
  },
  {
   "cell_type": "code",
   "execution_count": 77,
   "metadata": {},
   "outputs": [
    {
     "name": "stdout",
     "output_type": "stream",
     "text": [
      "col= term , n_unique= 2 , unique= [' 36 months' ' 60 months']\n",
      "col= grade , n_unique= 7 , unique= ['A' 'B' 'C' 'D' 'F' 'E' 'G']\n",
      "col= emp_length , n_unique= 12 , unique= ['10+ years' '< 1 year' '7 years' 'Unknown' '2 years' '1 year' '3 years'\n",
      " '9 years' '8 years' '5 years' '6 years' '4 years']\n",
      "col= home_ownership , n_unique= 5 , unique= ['MORTGAGE' 'RENT' 'OWN' 'ANY' 'NONE']\n",
      "col= verification_status , n_unique= 3 , unique= ['Source Verified' 'Not Verified' 'Verified']\n",
      "col= loan_status , n_unique= 7 , unique= ['Current' 'Fully Paid' 'Charged Off' 'In Grace Period'\n",
      " 'Late (31-120 days)' 'Late (16-30 days)' 'Default']\n",
      "col= pymnt_plan , n_unique= 2 , unique= ['n' 'y']\n",
      "col= purpose , n_unique= 13 , unique= ['debt_consolidation' 'credit_card' 'home_improvement' 'vacation' 'house'\n",
      " 'other' 'major_purchase' 'car' 'medical' 'small_business' 'moving'\n",
      " 'renewable_energy' 'wedding']\n",
      "col= application_type , n_unique= 2 , unique= ['Individual' 'Joint App']\n",
      "col= hardship_flag , n_unique= 2 , unique= ['N' 'Y']\n",
      "col= disbursement_method , n_unique= 2 , unique= ['Cash' 'DirectPay']\n",
      "col= debt_settlement_flag , n_unique= 2 , unique= ['N' 'Y']\n"
     ]
    }
   ],
   "source": [
    "objectColumns = loans.select_dtypes(include=[\"object\"]).columns\n",
    "for col in objectColumns:\n",
    "    print(\"col=\",col,\", n_unique=\", loans[col].nunique(),\", unique=\", loans[col].unique())"
   ]
  },
  {
   "cell_type": "code",
   "execution_count": 78,
   "metadata": {},
   "outputs": [
    {
     "name": "stdout",
     "output_type": "stream",
     "text": [
      "i=0,col=loan_amnt\n",
      "i=1,col=funded_amnt\n",
      "i=2,col=funded_amnt_inv\n",
      "i=3,col=int_rate\n",
      "i=4,col=installment\n",
      "i=5,col=annual_inc\n",
      "i=6,col=dti\n",
      "i=7,col=delinq_2yrs\n",
      "i=8,col=inq_last_6mths\n",
      "i=9,col=open_acc\n",
      "i=10,col=pub_rec\n",
      "i=11,col=revol_bal\n",
      "i=12,col=revol_util\n",
      "i=13,col=total_acc\n",
      "i=14,col=out_prncp\n",
      "i=15,col=out_prncp_inv\n",
      "i=16,col=total_pymnt\n",
      "i=17,col=total_pymnt_inv\n",
      "i=18,col=total_rec_prncp\n",
      "i=19,col=total_rec_int\n",
      "i=20,col=total_rec_late_fee\n",
      "i=21,col=recoveries\n",
      "i=22,col=collections_12_mths_ex_med\n",
      "i=23,col=acc_now_delinq\n",
      "i=24,col=tot_coll_amt\n",
      "i=25,col=tot_cur_bal\n",
      "i=26,col=open_acc_6m\n",
      "i=27,col=open_act_il\n",
      "i=28,col=open_il_12m\n",
      "i=29,col=open_il_24m\n",
      "i=30,col=mths_since_rcnt_il\n",
      "i=31,col=total_bal_il\n",
      "i=32,col=il_util\n",
      "i=33,col=open_rv_12m\n",
      "i=34,col=open_rv_24m\n",
      "i=35,col=max_bal_bc\n",
      "i=36,col=all_util\n",
      "i=37,col=total_rev_hi_lim\n",
      "i=38,col=inq_fi\n",
      "i=39,col=total_cu_tl\n",
      "i=40,col=inq_last_12m\n",
      "i=41,col=acc_open_past_24mths\n",
      "i=42,col=avg_cur_bal\n",
      "i=43,col=bc_open_to_buy\n",
      "i=44,col=bc_util\n",
      "i=45,col=chargeoff_within_12_mths\n",
      "i=46,col=delinq_amnt\n",
      "i=47,col=mo_sin_old_il_acct\n",
      "i=48,col=mo_sin_old_rev_tl_op\n",
      "i=49,col=mo_sin_rcnt_rev_tl_op\n",
      "i=50,col=mo_sin_rcnt_tl\n",
      "i=51,col=mort_acc\n",
      "i=52,col=mths_since_recent_bc\n",
      "i=53,col=mths_since_recent_inq\n",
      "i=54,col=num_accts_ever_120_pd\n",
      "i=55,col=num_actv_bc_tl\n",
      "i=56,col=num_actv_rev_tl\n",
      "i=57,col=num_bc_sats\n",
      "i=58,col=num_bc_tl\n",
      "i=59,col=num_il_tl\n",
      "i=60,col=num_op_rev_tl\n",
      "i=61,col=num_rev_accts\n",
      "i=62,col=num_rev_tl_bal_gt_0\n",
      "i=63,col=num_sats\n",
      "i=64,col=num_tl_120dpd_2m\n",
      "i=65,col=num_tl_30dpd\n",
      "i=66,col=num_tl_90g_dpd_24m\n",
      "i=67,col=num_tl_op_past_12m\n",
      "i=68,col=pct_tl_nvr_dlq\n",
      "i=69,col=percent_bc_gt_75\n",
      "i=70,col=pub_rec_bankruptcies\n",
      "i=71,col=tax_liens\n",
      "i=72,col=tot_hi_cred_lim\n",
      "i=73,col=total_bal_ex_mort\n",
      "i=74,col=total_bc_limit\n",
      "i=75,col=total_il_high_credit_limit\n"
     ]
    }
   ],
   "source": [
    "numColumns = loans.select_dtypes(include=np.number).columns\n",
    "for i in range(len(numColumns)):\n",
    "    print(f\"i={i},col={numColumns[i]}\")\n",
    "numdf = loans[numColumns]"
   ]
  },
  {
   "cell_type": "code",
   "execution_count": 79,
   "metadata": {},
   "outputs": [
    {
     "name": "stdout",
     "output_type": "stream",
     "text": [
      "loan_status\n",
      "Current               77347\n",
      "Fully Paid            19652\n",
      "Charged Off            4519\n",
      "Late (31-120 days)     2089\n",
      "In Grace Period        1083\n",
      "Late (16-30 days)       598\n",
      "Default                 163\n",
      "Name: count, dtype: int64 ----\n",
      "emp_length\n",
      "10+ years    35438\n",
      "2 years       9914\n",
      "< 1 year      9542\n",
      "3 years       8495\n",
      "1 year        7034\n",
      "Unknown       6697\n",
      "4 years       6453\n",
      "5 years       6382\n",
      "6 years       4526\n",
      "7 years       3847\n",
      "9 years       3828\n",
      "8 years       3295\n",
      "Name: count, dtype: int64 ----\n",
      "grade\n",
      "C    36880\n",
      "B    31301\n",
      "A    17898\n",
      "D    12015\n",
      "E     4847\n",
      "F     1725\n",
      "G      785\n",
      "Name: count, dtype: int64 ----\n"
     ]
    }
   ],
   "source": [
    "# 多值有序排列\n",
    "print(pd.value_counts(loans[\"loan_status\"]),\"----\")\n",
    "print(pd.value_counts(loans[\"emp_length\"]),\"----\")\n",
    "print(pd.value_counts(loans[\"grade\"]),\"----\")\n",
    "mapping_dict = {\n",
    "    \"loan_status\": {\n",
    "        'Current':0,\n",
    "        'Fully Paid':0,\n",
    "        'In Grace Period':1,\n",
    "        'Late (31-120 days)':1,\n",
    "        'Late (16-30 days)':1,\n",
    "        'Charged Off':1,\n",
    "        'Default':1\n",
    "    },\n",
    "    \"emp_length\": {\n",
    "        \"10+ years\": 10,\n",
    "        \"9 years\": 9,\n",
    "        \"8 years\": 8,\n",
    "        \"7 years\": 7,\n",
    "        \"6 years\": 6,\n",
    "        \"5 years\": 5,\n",
    "        \"4 years\": 4,\n",
    "        \"3 years\": 3,\n",
    "        \"2 years\": 2,\n",
    "        \"1 year\": 1,\n",
    "        \"< 1 year\": 0,\n",
    "        \"Unknown\": 0\n",
    "    },\n",
    "    \"grade\":{\n",
    "        \"A\": 1,\n",
    "        \"B\": 2,\n",
    "        \"C\": 3,\n",
    "        \"D\": 4,\n",
    "        \"E\": 5,\n",
    "        \"F\": 6,\n",
    "        \"G\": 7\n",
    "    },\n",
    "}\n",
    "loans = loans.replace(mapping_dict)\n"
   ]
  },
  {
   "cell_type": "code",
   "execution_count": 80,
   "metadata": {},
   "outputs": [
    {
     "name": "stdout",
     "output_type": "stream",
     "text": [
      "loan_status\n",
      "0    96999\n",
      "1     8452\n",
      "Name: count, dtype: int64 ----\n",
      "emp_length\n",
      "10    35438\n",
      "0     16239\n",
      "2      9914\n",
      "3      8495\n",
      "1      7034\n",
      "4      6453\n",
      "5      6382\n",
      "6      4526\n",
      "7      3847\n",
      "9      3828\n",
      "8      3295\n",
      "Name: count, dtype: int64 ----\n",
      "grade\n",
      "3    36880\n",
      "2    31301\n",
      "1    17898\n",
      "4    12015\n",
      "5     4847\n",
      "6     1725\n",
      "7      785\n",
      "Name: count, dtype: int64 ----\n"
     ]
    }
   ],
   "source": [
    "print(pd.value_counts(loans[\"loan_status\"]),\"----\")\n",
    "print(pd.value_counts(loans[\"emp_length\"]),\"----\")\n",
    "print(pd.value_counts(loans[\"grade\"]),\"----\")"
   ]
  },
  {
   "cell_type": "code",
   "execution_count": 81,
   "metadata": {},
   "outputs": [
    {
     "name": "stdout",
     "output_type": "stream",
     "text": [
      "        term_ 36 months  term_ 60 months  home_ownership_ANY  \\\n",
      "0                  True            False               False   \n",
      "1                  True            False               False   \n",
      "2                  True            False               False   \n",
      "3                  True            False               False   \n",
      "4                  True            False               False   \n",
      "...                 ...              ...                 ...   \n",
      "105446            False             True               False   \n",
      "105447             True            False               False   \n",
      "105448             True            False               False   \n",
      "105449             True            False               False   \n",
      "105450            False             True               False   \n",
      "\n",
      "        home_ownership_MORTGAGE  home_ownership_NONE  home_ownership_OWN  \\\n",
      "0                          True                False               False   \n",
      "1                         False                False               False   \n",
      "2                          True                False               False   \n",
      "3                          True                False               False   \n",
      "4                          True                False               False   \n",
      "...                         ...                  ...                 ...   \n",
      "105446                    False                False               False   \n",
      "105447                     True                False               False   \n",
      "105448                    False                False               False   \n",
      "105449                    False                False               False   \n",
      "105450                     True                False               False   \n",
      "\n",
      "        home_ownership_RENT  verification_status_Not Verified  \\\n",
      "0                     False                             False   \n",
      "1                      True                              True   \n",
      "2                     False                              True   \n",
      "3                     False                              True   \n",
      "4                     False                              True   \n",
      "...                     ...                               ...   \n",
      "105446                 True                             False   \n",
      "105447                False                             False   \n",
      "105448                 True                              True   \n",
      "105449                 True                             False   \n",
      "105450                False                             False   \n",
      "\n",
      "        verification_status_Source Verified  verification_status_Verified  \\\n",
      "0                                      True                         False   \n",
      "1                                     False                         False   \n",
      "2                                     False                         False   \n",
      "3                                     False                         False   \n",
      "4                                     False                         False   \n",
      "...                                     ...                           ...   \n",
      "105446                                 True                         False   \n",
      "105447                                 True                         False   \n",
      "105448                                False                         False   \n",
      "105449                                 True                         False   \n",
      "105450                                False                          True   \n",
      "\n",
      "        pymnt_plan_n  pymnt_plan_y  purpose_car  purpose_credit_card  \\\n",
      "0               True         False        False                False   \n",
      "1               True         False        False                 True   \n",
      "2               True         False        False                False   \n",
      "3               True         False        False                False   \n",
      "4               True         False        False                False   \n",
      "...              ...           ...          ...                  ...   \n",
      "105446          True         False        False                False   \n",
      "105447          True         False        False                False   \n",
      "105448          True         False        False                False   \n",
      "105449          True         False        False                 True   \n",
      "105450          True         False        False                False   \n",
      "\n",
      "        purpose_debt_consolidation  purpose_home_improvement  purpose_house  \\\n",
      "0                             True                     False          False   \n",
      "1                            False                     False          False   \n",
      "2                             True                     False          False   \n",
      "3                            False                      True          False   \n",
      "4                             True                     False          False   \n",
      "...                            ...                       ...            ...   \n",
      "105446                       False                     False          False   \n",
      "105447                        True                     False          False   \n",
      "105448                        True                     False          False   \n",
      "105449                       False                     False          False   \n",
      "105450                        True                     False          False   \n",
      "\n",
      "        purpose_major_purchase  purpose_medical  purpose_moving  \\\n",
      "0                        False            False           False   \n",
      "1                        False            False           False   \n",
      "2                        False            False           False   \n",
      "3                        False            False           False   \n",
      "4                        False            False           False   \n",
      "...                        ...              ...             ...   \n",
      "105446                   False            False           False   \n",
      "105447                   False            False           False   \n",
      "105448                   False            False           False   \n",
      "105449                   False            False           False   \n",
      "105450                   False            False           False   \n",
      "\n",
      "        purpose_other  purpose_renewable_energy  purpose_small_business  \\\n",
      "0               False                     False                   False   \n",
      "1               False                     False                   False   \n",
      "2               False                     False                   False   \n",
      "3               False                     False                   False   \n",
      "4               False                     False                   False   \n",
      "...               ...                       ...                     ...   \n",
      "105446           True                     False                   False   \n",
      "105447          False                     False                   False   \n",
      "105448          False                     False                   False   \n",
      "105449          False                     False                   False   \n",
      "105450          False                     False                   False   \n",
      "\n",
      "        purpose_vacation  purpose_wedding  application_type_Individual  \\\n",
      "0                  False            False                         True   \n",
      "1                  False            False                         True   \n",
      "2                  False            False                         True   \n",
      "3                  False            False                         True   \n",
      "4                  False            False                         True   \n",
      "...                  ...              ...                          ...   \n",
      "105446             False            False                         True   \n",
      "105447             False            False                         True   \n",
      "105448             False            False                         True   \n",
      "105449             False            False                         True   \n",
      "105450             False            False                         True   \n",
      "\n",
      "        application_type_Joint App  hardship_flag_N  hardship_flag_Y  \\\n",
      "0                            False             True            False   \n",
      "1                            False             True            False   \n",
      "2                            False             True            False   \n",
      "3                            False             True            False   \n",
      "4                            False             True            False   \n",
      "...                            ...              ...              ...   \n",
      "105446                       False             True            False   \n",
      "105447                       False             True            False   \n",
      "105448                       False             True            False   \n",
      "105449                       False             True            False   \n",
      "105450                       False             True            False   \n",
      "\n",
      "        disbursement_method_Cash  disbursement_method_DirectPay  \\\n",
      "0                           True                          False   \n",
      "1                           True                          False   \n",
      "2                           True                          False   \n",
      "3                           True                          False   \n",
      "4                           True                          False   \n",
      "...                          ...                            ...   \n",
      "105446                      True                          False   \n",
      "105447                      True                          False   \n",
      "105448                      True                          False   \n",
      "105449                      True                          False   \n",
      "105450                      True                          False   \n",
      "\n",
      "        debt_settlement_flag_N  debt_settlement_flag_Y  \n",
      "0                         True                   False  \n",
      "1                         True                   False  \n",
      "2                         True                   False  \n",
      "3                         True                   False  \n",
      "4                         True                   False  \n",
      "...                        ...                     ...  \n",
      "105446                    True                   False  \n",
      "105447                    True                   False  \n",
      "105448                    True                   False  \n",
      "105449                    True                   False  \n",
      "105450                    True                   False  \n",
      "\n",
      "[105451 rows x 33 columns]\n"
     ]
    }
   ],
   "source": [
    "# 多值无序排列\n",
    "onehot_cols = [\"term\",\"home_ownership\", \"verification_status\",\"pymnt_plan\",\"purpose\",\"application_type\",\"hardship_flag\",\"disbursement_method\",\"debt_settlement_flag\"]\n",
    "dummy_df = pd.get_dummies(loans[onehot_cols])\n",
    "print(dummy_df)\n",
    "loans = pd.concat([loans, dummy_df], axis=1)\n",
    "loans = loans.drop(onehot_cols, axis=1)"
   ]
  },
  {
   "cell_type": "code",
   "execution_count": 82,
   "metadata": {},
   "outputs": [
    {
     "name": "stdout",
     "output_type": "stream",
     "text": [
      "<class 'pandas.core.frame.DataFrame'>\n",
      "RangeIndex: 105451 entries, 0 to 105450\n",
      "Columns: 112 entries, loan_amnt to debt_settlement_flag_Y\n",
      "dtypes: bool(33), float64(76), int64(3)\n",
      "memory usage: 66.9 MB\n"
     ]
    }
   ],
   "source": [
    "loans.info() # 所有变量转为np.number"
   ]
  },
  {
   "cell_type": "code",
   "execution_count": 88,
   "metadata": {},
   "outputs": [
    {
     "name": "stdout",
     "output_type": "stream",
     "text": [
      "          loan_amnt   funded_amnt  funded_amnt_inv      int_rate  \\\n",
      "count  1.054510e+05  1.054510e+05     1.054510e+05  1.054510e+05   \n",
      "mean   2.317917e-17  2.317917e-17    -2.264012e-17 -2.264012e-17   \n",
      "std    1.000005e+00  1.000005e+00     1.000005e+00  1.000005e+00   \n",
      "min   -1.433629e+00 -1.433629e+00    -1.433631e+00 -1.544435e+00   \n",
      "25%   -8.006371e-01 -8.006371e-01    -8.004576e-01 -6.505594e-01   \n",
      "50%   -2.731436e-01 -2.731436e-01    -2.728129e-01 -1.289702e-01   \n",
      "75%    5.708461e-01  5.708461e-01     5.714185e-01  5.244706e-01   \n",
      "max    2.680820e+00  2.680820e+00     2.681997e+00  3.432961e+00   \n",
      "\n",
      "        installment         grade    emp_length    annual_inc    loan_status  \\\n",
      "count  1.054510e+05  1.054510e+05  1.054510e+05  1.054510e+05  105451.000000   \n",
      "mean   5.390505e-17 -1.552466e-16  6.940276e-17 -1.920368e-16       0.080151   \n",
      "std    1.000005e+00  1.000005e+00  1.000005e+00  1.000005e+00       0.271528   \n",
      "min   -1.451497e+00 -1.385154e+00 -1.402041e+00 -1.179296e+00       0.000000   \n",
      "25%   -7.286385e-01 -5.448692e-01 -8.916495e-01 -4.756936e-01       0.000000   \n",
      "50%   -2.691243e-01  2.954157e-01 -1.260623e-01 -1.825258e-01       0.000000   \n",
      "75%    5.267985e-01  2.954157e-01  1.149916e+00  2.425675e-01       0.000000   \n",
      "max    4.579619e+00  3.656555e+00  1.149916e+00  1.292804e+02       1.000000   \n",
      "\n",
      "                dti   delinq_2yrs  inq_last_6mths      open_acc       pub_rec  \\\n",
      "count  1.054510e+05  1.054510e+05    1.054510e+05  1.054510e+05  1.054510e+05   \n",
      "mean  -1.541685e-16  4.019296e-17   -2.964778e-18  1.133354e-16  2.749158e-17   \n",
      "std    1.000005e+00  1.000005e+00    1.000005e+00  1.000005e+00  1.000005e+00   \n",
      "min   -1.342769e+00 -3.700996e-01   -6.297273e-01 -2.051234e+00 -3.908021e-01   \n",
      "25%   -4.771633e-01 -3.700996e-01   -6.297273e-01 -6.663942e-01 -3.908021e-01   \n",
      "50%   -6.062607e-02 -3.700996e-01   -6.297273e-01 -1.470795e-01 -3.908021e-01   \n",
      "75%    3.948069e-01 -3.700996e-01    6.062274e-01  5.453402e-01 -3.908021e-01   \n",
      "max    6.930591e+01  4.328700e+01    5.550047e+00  1.318200e+01  3.304939e+01   \n",
      "\n",
      "          revol_bal    revol_util     total_acc     out_prncp  out_prncp_inv  \\\n",
      "count  1.054510e+05  1.054510e+05  1.054510e+05  1.054510e+05   1.054510e+05   \n",
      "mean  -3.342113e-17  8.328331e-17  1.495865e-16  1.892067e-16  -4.743645e-17   \n",
      "std    1.000005e+00  1.000005e+00  1.000005e+00  1.000005e+00   1.000005e+00   \n",
      "min   -7.226400e-01 -2.021158e+00 -1.839720e+00 -1.040066e+00  -1.040016e+00   \n",
      "25%   -4.663027e-01 -7.676465e-01 -7.405329e-01 -8.660096e-01  -8.659251e-01   \n",
      "50%   -2.362654e-01 -1.718919e-02 -1.486632e-01 -2.422139e-01  -2.421087e-01   \n",
      "75%    1.453232e-01  7.580084e-01  5.277593e-01  5.758865e-01   5.761620e-01   \n",
      "max    4.451904e+01  3.706233e+00  1.033589e+01  3.469464e+00   3.470398e+00   \n",
      "\n",
      "        total_pymnt  total_pymnt_inv  total_rec_prncp  total_rec_int  \\\n",
      "count  1.054510e+05     1.054510e+05     1.054510e+05   1.054510e+05   \n",
      "mean   2.803063e-17     4.743645e-17     1.487780e-16  -1.078101e-16   \n",
      "std    1.000005e+00     1.000005e+00     1.000005e+00   1.000005e+00   \n",
      "min   -1.114739e+00    -1.114775e+00    -9.131946e-01  -1.091598e+00   \n",
      "25%   -6.244846e-01    -6.245089e-01    -5.725852e-01  -7.169988e-01   \n",
      "50%   -3.066141e-01    -3.064846e-01    -3.439044e-01  -3.167972e-01   \n",
      "75%    2.832109e-01     2.834869e-01     1.275787e-01   4.111397e-01   \n",
      "max    6.381197e+00     6.378811e+00     5.610107e+00   7.551147e+00   \n",
      "\n",
      "       total_rec_late_fee    recoveries  collections_12_mths_ex_med  \\\n",
      "count        1.054510e+05  1.054510e+05                1.054510e+05   \n",
      "mean        -3.342113e-17 -1.994487e-17               -1.415008e-17   \n",
      "std          1.000005e+00  1.000005e+00                1.000005e+00   \n",
      "min         -1.188114e-01 -1.010884e-01               -1.413763e-01   \n",
      "25%         -1.188114e-01 -1.010884e-01               -1.413763e-01   \n",
      "50%         -1.188114e-01 -1.010884e-01               -1.413763e-01   \n",
      "75%         -1.188114e-01 -1.010884e-01               -1.413763e-01   \n",
      "max          6.102668e+01  6.209086e+01                2.424844e+01   \n",
      "\n",
      "       acc_now_delinq  tot_coll_amt   tot_cur_bal   open_acc_6m   open_act_il  \\\n",
      "count    1.054510e+05  1.054510e+05  1.054510e+05  1.054510e+05  1.054510e+05   \n",
      "mean     4.649311e-18  8.018377e-18  3.786830e-17  9.163859e-18  5.525268e-17   \n",
      "std      1.000005e+00  1.000005e+00  1.000005e+00  1.000005e+00  1.000005e+00   \n",
      "min     -7.096535e-02 -1.214699e-01 -8.960756e-01 -7.978439e-01 -9.285205e-01   \n",
      "25%     -7.096535e-02 -1.214699e-01 -7.141978e-01 -7.978439e-01 -6.063680e-01   \n",
      "50%     -7.096535e-02 -1.214699e-01 -3.883205e-01  1.194217e-01 -2.842155e-01   \n",
      "75%     -7.096535e-02 -1.214699e-01  4.474908e-01  1.194217e-01  3.793695e-02   \n",
      "max      3.973418e+01  1.335578e+02  2.075210e+01  1.387841e+01  1.678987e+01   \n",
      "\n",
      "        open_il_12m   open_il_24m  mths_since_rcnt_il  total_bal_il  \\\n",
      "count  1.054510e+05  1.054510e+05        1.054510e+05  1.054510e+05   \n",
      "mean  -1.092925e-16 -2.742420e-17        1.458132e-16  3.396018e-17   \n",
      "std    1.000005e+00  1.000005e+00        1.000005e+00  1.000005e+00   \n",
      "min   -7.340286e-01 -1.022610e+00       -8.593208e-01 -8.226365e-01   \n",
      "25%   -7.340286e-01 -1.022610e+00       -5.362687e-01 -6.100896e-01   \n",
      "50%   -7.340286e-01 -3.608206e-01       -2.939795e-01 -2.840540e-01   \n",
      "75%    4.609394e-01  3.009684e-01        1.098357e-01  2.402800e-01   \n",
      "max    1.002068e+01  8.242436e+00        1.573748e+01  2.797292e+01   \n",
      "\n",
      "            il_util   open_rv_12m   open_rv_24m    max_bal_bc      all_util  \\\n",
      "count  1.054510e+05  1.054510e+05  1.054510e+05  1.054510e+05  1.054510e+05   \n",
      "mean   5.538071e-16  4.015927e-17 -5.417458e-17  6.899847e-17 -1.857029e-16   \n",
      "std    1.000005e+00  1.000005e+00  1.000005e+00  1.000005e+00  1.000005e+00   \n",
      "min   -3.019954e+00 -8.724113e-01 -1.072794e+00 -1.090120e+00 -2.800759e+00   \n",
      "25%   -5.155219e-01 -8.724113e-01 -6.916120e-01 -6.428227e-01 -6.813030e-01   \n",
      "50%    6.243881e-16 -2.114351e-01 -3.104300e-01 -2.514848e-01  4.123904e-02   \n",
      "75%    6.268507e-01  4.495410e-01  4.519341e-01  3.261330e-01  7.156116e-01   \n",
      "max    1.736700e+01  1.234711e+01  1.608040e+01  5.491778e+01  6.110592e+00   \n",
      "\n",
      "       total_rev_hi_lim        inq_fi   total_cu_tl  inq_last_12m  \\\n",
      "count      1.054510e+05  1.054510e+05  1.054510e+05  1.054510e+05   \n",
      "mean       4.501072e-17  6.792037e-17  5.161409e-17  1.509342e-17   \n",
      "std        1.000005e+00  1.000005e+00  1.000005e+00  1.000005e+00   \n",
      "min       -9.974297e-01 -6.633836e-01 -5.528134e-01 -8.780760e-01   \n",
      "25%       -5.768314e-01 -6.633836e-01 -5.528134e-01 -8.780760e-01   \n",
      "50%       -2.613827e-01 -6.633836e-01 -5.528134e-01 -4.492115e-01   \n",
      "75%        2.473139e-01  2.106886e-02  2.064203e-01  4.085175e-01   \n",
      "max        3.459712e+01  1.781683e+01  2.639999e+01  1.627651e+01   \n",
      "\n",
      "       acc_open_past_24mths   avg_cur_bal  bc_open_to_buy       bc_util  \\\n",
      "count          1.054510e+05  1.054510e+05    1.054510e+05  1.054510e+05   \n",
      "mean           7.411945e-18 -4.905360e-17   -2.075345e-17  7.384992e-17   \n",
      "std            1.000005e+00  1.000005e+00    1.000005e+00  1.000005e+00   \n",
      "min           -1.437525e+00 -8.386890e-01   -7.101979e-01 -2.005651e+00   \n",
      "25%           -8.176059e-01 -6.485211e-01   -5.904831e-01 -7.989601e-01   \n",
      "50%           -1.976872e-01 -3.785193e-01   -3.505761e-01  3.862524e-02   \n",
      "75%            4.222315e-01  3.348531e-01    1.688444e-01  8.726615e-01   \n",
      "max            1.251065e+01  2.624996e+01    2.060161e+01  3.900036e+00   \n",
      "\n",
      "       chargeoff_within_12_mths   delinq_amnt  mo_sin_old_il_acct  \\\n",
      "count              1.054510e+05  1.054510e+05        1.054510e+05   \n",
      "mean               3.520674e-17 -3.436447e-18        5.417458e-16   \n",
      "std                1.000005e+00  1.000005e+00        1.000005e+00   \n",
      "min               -8.730904e-02 -2.228796e-02       -2.370587e+00   \n",
      "25%               -8.730904e-02 -2.228796e-02       -5.277988e-01   \n",
      "50%               -8.730904e-02 -2.228796e-02        5.512414e-02   \n",
      "75%               -8.730904e-02 -2.228796e-02        5.064193e-01   \n",
      "max                3.791816e+01  8.725837e+01        1.282302e+01   \n",
      "\n",
      "       mo_sin_old_rev_tl_op  mo_sin_rcnt_rev_tl_op  mo_sin_rcnt_tl  \\\n",
      "count          1.054510e+05           1.054510e+05    1.054510e+05   \n",
      "mean           4.986218e-17           1.441960e-17   -2.290965e-17   \n",
      "std            1.000005e+00           1.000005e+00    1.000005e+00   \n",
      "min           -1.789724e+00          -8.113505e-01   -9.752724e-01   \n",
      "25%           -6.484817e-01          -5.797741e-01   -6.252378e-01   \n",
      "50%           -1.899471e-01          -2.903035e-01   -2.752031e-01   \n",
      "75%            5.233291e-01           1.728495e-01    3.081880e-01   \n",
      "max            8.338797e+00           1.916212e+01    2.177698e+01   \n",
      "\n",
      "           mort_acc  mths_since_recent_bc  mths_since_recent_inq  \\\n",
      "count  1.054510e+05          1.054510e+05           1.054510e+05   \n",
      "mean  -2.830015e-17          1.036325e-16           1.220949e-16   \n",
      "std    1.000005e+00          1.000005e+00           1.000005e+00   \n",
      "min   -8.190700e-01         -7.624077e-01          -1.265591e+00   \n",
      "25%   -8.190700e-01         -5.731721e-01          -7.312052e-01   \n",
      "50%   -2.463548e-01         -3.523973e-01          -1.869072e-02   \n",
      "75%    3.263604e-01          1.522308e-01           5.156951e-01   \n",
      "max    1.235338e+01          1.674188e+01           3.187624e+00   \n",
      "\n",
      "       num_accts_ever_120_pd  num_actv_bc_tl  num_actv_rev_tl   num_bc_sats  \\\n",
      "count           1.054510e+05    1.054510e+05     1.054510e+05  1.054510e+05   \n",
      "mean           -3.342113e-17   -3.409495e-17     6.199081e-17  4.608882e-17   \n",
      "std             1.000005e+00    1.000005e+00     1.000005e+00  1.000005e+00   \n",
      "min            -3.662327e-01   -1.570122e+00    -1.644276e+00 -1.554467e+00   \n",
      "25%            -3.662327e-01   -7.183232e-01    -7.662973e-01 -5.855520e-01   \n",
      "50%            -3.662327e-01   -2.924239e-01    -1.809782e-01 -2.625802e-01   \n",
      "75%            -3.662327e-01    5.593748e-01     4.043409e-01  3.833634e-01   \n",
      "max             2.753570e+01    1.163276e+01     1.679328e+01  1.233332e+01   \n",
      "\n",
      "          num_bc_tl     num_il_tl  num_op_rev_tl  num_rev_accts  \\\n",
      "count  1.054510e+05  1.054510e+05   1.054510e+05   1.054510e+05   \n",
      "mean  -7.573660e-17 -4.959265e-17  -9.197550e-17   7.438898e-17   \n",
      "std    1.000005e+00  1.000005e+00   1.000005e+00   1.000005e+00   \n",
      "min   -1.625159e+00 -1.156522e+00  -1.740471e+00  -1.462792e+00   \n",
      "25%   -7.347831e-01 -6.194771e-01  -6.866047e-01  -6.993959e-01   \n",
      "50%   -2.895952e-01 -2.166937e-01  -2.650581e-01  -1.904649e-01   \n",
      "75%    3.781866e-01  3.203508e-01   3.672617e-01   4.456989e-01   \n",
      "max    1.306604e+01  1.280664e+01   1.195979e+01   1.266004e+01   \n",
      "\n",
      "       num_rev_tl_bal_gt_0      num_sats  num_tl_120dpd_2m  num_tl_30dpd  \\\n",
      "count         1.054510e+05  1.054510e+05      1.054510e+05  1.054510e+05   \n",
      "mean         -1.207473e-16 -4.224809e-17      5.390505e-19  2.681776e-17   \n",
      "std           1.000005e+00  1.000005e+00      1.000005e+00  1.000005e+00   \n",
      "min          -1.685645e+00 -2.051183e+00     -3.116624e-02 -5.821558e-02   \n",
      "25%          -7.718000e-01 -6.609763e-01     -3.116624e-02 -5.821558e-02   \n",
      "50%          -1.625696e-01 -1.396488e-01     -3.116624e-02 -5.821558e-02   \n",
      "75%           4.466607e-01  5.554544e-01     -3.116624e-02 -5.821558e-02   \n",
      "max           1.049896e+01  1.306731e+01      6.368343e+01  3.367196e+01   \n",
      "\n",
      "       num_tl_90g_dpd_24m  num_tl_op_past_12m  pct_tl_nvr_dlq  \\\n",
      "count        1.054510e+05        1.054510e+05    1.054510e+05   \n",
      "mean         9.298622e-18       -6.333844e-17    1.331185e-15   \n",
      "std          1.000005e+00        1.000005e+00    1.000005e+00   \n",
      "min         -1.674856e-01       -1.127917e+00   -9.589011e+00   \n",
      "25%         -1.674856e-01       -5.838855e-01   -3.162167e-01   \n",
      "50%         -1.674856e-01       -3.985400e-02    4.018094e-01   \n",
      "75%         -1.674856e-01        5.041776e-01    6.685048e-01   \n",
      "max          7.516348e+01        1.084078e+01    6.685048e-01   \n",
      "\n",
      "       percent_bc_gt_75  pub_rec_bankruptcies     tax_liens  tot_hi_cred_lim  \\\n",
      "count      1.054510e+05          1.054510e+05  1.054510e+05     1.054510e+05   \n",
      "mean      -1.826034e-16         -1.724962e-17  6.603369e-18    -3.288208e-17   \n",
      "std        1.000005e+00          1.000005e+00  1.000005e+00     1.000005e+00   \n",
      "min       -1.132491e+00         -3.604017e-01 -1.702215e-01    -1.001759e+00   \n",
      "25%       -1.132491e+00         -3.604017e-01 -1.702215e-01    -7.151618e-01   \n",
      "50%       -2.026317e-01         -3.604017e-01 -1.702215e-01    -3.536300e-01   \n",
      "75%        7.300195e-01         -3.604017e-01 -1.702215e-01     4.492427e-01   \n",
      "max        1.659878e+00          1.752056e+01  4.965322e+01     2.314453e+01   \n",
      "\n",
      "       total_bal_ex_mort  total_bc_limit  total_il_high_credit_limit  \n",
      "count       1.054510e+05    1.054510e+05                1.054510e+05  \n",
      "mean        7.007657e-18    4.528025e-17               -2.284227e-17  \n",
      "std         1.000005e+00    1.000005e+00                1.000005e+00  \n",
      "min        -1.030283e+00   -1.020174e+00               -1.006149e+00  \n",
      "25%        -6.100793e-01   -6.536621e-01               -6.414651e-01  \n",
      "50%        -2.718877e-01   -2.957742e-01               -2.478577e-01  \n",
      "75%         2.695241e-01    3.122041e-01                3.392658e-01  \n",
      "max         2.446899e+01    1.656808e+01                2.822952e+01  \n"
     ]
    }
   ],
   "source": [
    "ylabel = \"loan_status\"\n",
    "xlabel = list(loans.columns)\n",
    "xlabel.remove(ylabel)\n",
    "cols = loans.select_dtypes(include=['int64','float64']).columns\n",
    "cols = cols.drop(ylabel)\n",
    "loans_cp  = loans.copy(deep=True)\n",
    "# 标准化数据\n",
    "from sklearn.preprocessing import StandardScaler\n",
    "ss = StandardScaler()\n",
    "loans_cp[cols] = ss.fit_transform(loans_cp[cols])\n",
    "print(loans_cp.describe())\n"
   ]
  },
  {
   "cell_type": "code",
   "execution_count": 93,
   "metadata": {},
   "outputs": [
    {
     "name": "stdout",
     "output_type": "stream",
     "text": [
      "(105451, 111) (105451,)\n",
      "[ True  True  True  True  True  True False False False False False False\n",
      " False False False  True  True  True  True  True  True  True  True  True\n",
      " False False False  True False False False False False False False False\n",
      " False False False False False False False False False False False False\n",
      " False False False False False False False False False False False False\n",
      " False  True False  True False False False False False False False False\n",
      " False False  True False False False  True False  True False False False\n",
      " False False False False  True  True False False False False  True  True\n",
      "  True False False False False False False False False  True  True False\n",
      " False  True  True]\n",
      "[ 1  1  1  1  1  1 28  6 61 37 48 80 68 78 39  1  1  1  1  1  1  1  1  1\n",
      " 77 55 43  1 64 59 10 19 65 47 26  8 25 17 60 52 30 70 62  5 34 16 40 79\n",
      " 71 51 82 29 72 76 35 63 58 23 11 24  4  1 66  1 12 22 56 36 42  9 69 41\n",
      " 54 67  1 53  3 46  1 15  1 33 75 31 32  2 45 44  1  1 18 74 81 38  1  1\n",
      "  1 50 73 13 14 49 21 57 27  1  1 20  7  1  1]\n"
     ]
    }
   ],
   "source": [
    "\n",
    "x = loans_cp[xlabel]\n",
    "y = loans_cp[ylabel]\n",
    "print(x.shape,y.shape)\n",
    "# 采用的是Wrapper方法，通过暴力的递归特征消除 (Recursive Feature Elimination)方法筛选30个与目标变量相关性最强的特征\n",
    "from sklearn.feature_selection import RFE\n",
    "from sklearn.linear_model import LogisticRegression\n",
    "model = LogisticRegression(max_iter=1000)\n",
    "rfe = RFE(estimator=model,n_features_to_select=30) #通过递归选择特征，选择30个特征\n",
    "rfe = rfe.fit(x, y)\n",
    "print(rfe.support_)\n",
    "print(rfe.ranking_) #ranking 为 1代表被选中，其他则代表未被选中"
   ]
  },
  {
   "cell_type": "code",
   "execution_count": 94,
   "metadata": {},
   "outputs": [
    {
     "name": "stdout",
     "output_type": "stream",
     "text": [
      "Index(['loan_amnt', 'funded_amnt', 'funded_amnt_inv', 'int_rate',\n",
      "       'installment', 'grade', 'total_acc', 'out_prncp', 'out_prncp_inv',\n",
      "       'total_pymnt', 'total_pymnt_inv', 'total_rec_prncp', 'total_rec_int',\n",
      "       'total_rec_late_fee', 'recoveries', 'tot_cur_bal', 'num_il_tl',\n",
      "       'num_rev_accts', 'tot_hi_cred_lim', 'term_ 36 months',\n",
      "       'home_ownership_ANY', 'pymnt_plan_n', 'pymnt_plan_y', 'purpose_house',\n",
      "       'purpose_major_purchase', 'purpose_medical', 'hardship_flag_N',\n",
      "       'hardship_flag_Y', 'debt_settlement_flag_N', 'debt_settlement_flag_Y'],\n",
      "      dtype='object')\n"
     ]
    },
    {
     "data": {
      "text/plain": [
       "<Axes: title={'center': 'Pearson Correlation of Features'}>"
      ]
     },
     "execution_count": 94,
     "metadata": {},
     "output_type": "execute_result"
    },
    {
     "data": {
      "image/png": "[encoded data removed]",
      "text/plain": [
       "<Figure size 1200x1200 with 2 Axes>"
      ]
     },
     "metadata": {},
     "output_type": "display_data"
    }
   ],
   "source": [
    "col_filter = x.columns[rfe.support_]\n",
    "print(col_filter) # 查看通过递归特征消除法筛选的变量\n",
    "colormap = plt.cm.viridis\n",
    "plt.figure(figsize=(12,12))\n",
    "plt.title('Pearson Correlation of Features', y=1.05, size=15)\n",
    "sns.heatmap(x[col_filter].corr(),linewidths=0.1,vmax=1.0, square=True, cmap=colormap, linecolor='white', annot=True)"
   ]
  },
  {
   "cell_type": "code",
   "execution_count": 98,
   "metadata": {},
   "outputs": [
    {
     "name": "stdout",
     "output_type": "stream",
     "text": [
      "col_new = Index(['loan_amnt', 'grade', 'total_acc', 'out_prncp', 'total_pymnt',\n",
      "       'total_rec_int', 'total_rec_late_fee', 'recoveries', 'tot_cur_bal',\n",
      "       'num_il_tl', 'num_rev_accts', 'term_ 36 months', 'home_ownership_ANY',\n",
      "       'pymnt_plan_y', 'purpose_house', 'purpose_major_purchase',\n",
      "       'purpose_medical', 'hardship_flag_Y', 'debt_settlement_flag_Y'],\n",
      "      dtype='object'),len = 19\n",
      "loans_simple =           loan_amnt         grade     total_acc     out_prncp   total_pymnt  \\\n",
      "count  1.054510e+05  1.054510e+05  1.054510e+05  1.054510e+05  1.054510e+05   \n",
      "mean   2.317917e-17 -1.552466e-16  1.495865e-16  1.892067e-16  2.803063e-17   \n",
      "std    1.000005e+00  1.000005e+00  1.000005e+00  1.000005e+00  1.000005e+00   \n",
      "min   -1.433629e+00 -1.385154e+00 -1.839720e+00 -1.040066e+00 -1.114739e+00   \n",
      "25%   -8.006371e-01 -5.448692e-01 -7.405329e-01 -8.660096e-01 -6.244846e-01   \n",
      "50%   -2.731436e-01  2.954157e-01 -1.486632e-01 -2.422139e-01 -3.066141e-01   \n",
      "75%    5.708461e-01  2.954157e-01  5.277593e-01  5.758865e-01  2.832109e-01   \n",
      "max    2.680820e+00  3.656555e+00  1.033589e+01  3.469464e+00  6.381197e+00   \n",
      "\n",
      "       total_rec_int  total_rec_late_fee    recoveries   tot_cur_bal  \\\n",
      "count   1.054510e+05        1.054510e+05  1.054510e+05  1.054510e+05   \n",
      "mean   -1.078101e-16       -3.342113e-17 -1.994487e-17  3.786830e-17   \n",
      "std     1.000005e+00        1.000005e+00  1.000005e+00  1.000005e+00   \n",
      "min    -1.091598e+00       -1.188114e-01 -1.010884e-01 -8.960756e-01   \n",
      "25%    -7.169988e-01       -1.188114e-01 -1.010884e-01 -7.141978e-01   \n",
      "50%    -3.167972e-01       -1.188114e-01 -1.010884e-01 -3.883205e-01   \n",
      "75%     4.111397e-01       -1.188114e-01 -1.010884e-01  4.474908e-01   \n",
      "max     7.551147e+00        6.102668e+01  6.209086e+01  2.075210e+01   \n",
      "\n",
      "          num_il_tl  num_rev_accts    loan_status  \n",
      "count  1.054510e+05   1.054510e+05  105451.000000  \n",
      "mean  -4.959265e-17   7.438898e-17       0.080151  \n",
      "std    1.000005e+00   1.000005e+00       0.271528  \n",
      "min   -1.156522e+00  -1.462792e+00       0.000000  \n",
      "25%   -6.194771e-01  -6.993959e-01       0.000000  \n",
      "50%   -2.166937e-01  -1.904649e-01       0.000000  \n",
      "75%    3.203508e-01   4.456989e-01       0.000000  \n",
      "max    1.280664e+01   1.266004e+01       1.000000  \n"
     ]
    }
   ],
   "source": [
    "drop_col = ['funded_amnt', 'funded_amnt_inv','installment', \n",
    "            'int_rate',\n",
    "            'out_prncp_inv',\n",
    "            'total_pymnt_inv', 'total_rec_prncp',\n",
    "            'tot_hi_cred_lim',\n",
    "            'pymnt_plan_n',\n",
    "            'hardship_flag_N',\n",
    "            'debt_settlement_flag_N'\n",
    "            ]\n",
    "col_new = col_filter.drop(drop_col)\n",
    "print(f\"col_new = {col_new},len = {len(col_new)}\")\n",
    "col_new = col_new.append(pd.Index([ylabel]))\n",
    "loans_simple = loans_cp[col_new]\n",
    "print(f\"loans_simple = {loans_simple.describe()}\")"
   ]
  },
  {
   "cell_type": "code",
   "execution_count": 99,
   "metadata": {},
   "outputs": [],
   "source": [
    "loans_simple.to_csv('./dataset/loans_2017q2_s4_simple.csv', index = False)"
   ]
  },
  {
   "cell_type": "code",
   "execution_count": 62,
   "metadata": {},
   "outputs": [],
   "source": [
    "loans_cp.to_csv('./dataset/loans_2017q2_s4.csv', index = False)"
   ]
  },
  {
   "cell_type": "markdown",
   "metadata": {},
   "source": [
    "## Step4. Model"
   ]
  },
  {
   "cell_type": "markdown",
   "metadata": {},
   "source": [
    "### Forest & LR"
   ]
  },
  {
   "cell_type": "code",
   "execution_count": 63,
   "metadata": {},
   "outputs": [],
   "source": [
    "loans = pd.read_csv('./dataset/loans_2017q2_s4.csv',encoding='latin-1') "
   ]
  },
  {
   "cell_type": "code",
   "execution_count": 100,
   "metadata": {},
   "outputs": [],
   "source": [
    "loans = pd.read_csv('./dataset/loans_2017q2_s4_simple.csv',encoding='latin-1') "
   ]
  },
  {
   "cell_type": "code",
   "execution_count": 101,
   "metadata": {},
   "outputs": [
    {
     "name": "stdout",
     "output_type": "stream",
     "text": [
      "(105451, 20)\n"
     ]
    },
    {
     "data": {
      "text/html": [
       "<div>\n",
       "<style scoped>\n",
       "    .dataframe tbody tr th:only-of-type {\n",
       "        vertical-align: middle;\n",
       "    }\n",
       "\n",
       "    .dataframe tbody tr th {\n",
       "        vertical-align: top;\n",
       "    }\n",
       "\n",
       "    .dataframe thead th {\n",
       "        text-align: right;\n",
       "    }\n",
       "</style>\n",
       "<table border=\"1\" class=\"dataframe\">\n",
       "  <thead>\n",
       "    <tr style=\"text-align: right;\">\n",
       "      <th></th>\n",
       "      <th>loan_amnt</th>\n",
       "      <th>grade</th>\n",
       "      <th>total_acc</th>\n",
       "      <th>out_prncp</th>\n",
       "      <th>total_pymnt</th>\n",
       "      <th>total_rec_int</th>\n",
       "      <th>total_rec_late_fee</th>\n",
       "      <th>recoveries</th>\n",
       "      <th>tot_cur_bal</th>\n",
       "      <th>num_il_tl</th>\n",
       "      <th>num_rev_accts</th>\n",
       "      <th>term_ 36 months</th>\n",
       "      <th>home_ownership_ANY</th>\n",
       "      <th>pymnt_plan_y</th>\n",
       "      <th>purpose_house</th>\n",
       "      <th>purpose_major_purchase</th>\n",
       "      <th>purpose_medical</th>\n",
       "      <th>hardship_flag_Y</th>\n",
       "      <th>debt_settlement_flag_Y</th>\n",
       "      <th>loan_status</th>\n",
       "    </tr>\n",
       "  </thead>\n",
       "  <tbody>\n",
       "    <tr>\n",
       "      <th>0</th>\n",
       "      <td>-0.747888</td>\n",
       "      <td>-1.385154</td>\n",
       "      <td>-0.655980</td>\n",
       "      <td>-0.397895</td>\n",
       "      <td>-0.691128</td>\n",
       "      <td>-0.791511</td>\n",
       "      <td>-0.118811</td>\n",
       "      <td>-0.101088</td>\n",
       "      <td>1.269507</td>\n",
       "      <td>0.051829</td>\n",
       "      <td>-1.335560</td>\n",
       "      <td>True</td>\n",
       "      <td>False</td>\n",
       "      <td>False</td>\n",
       "      <td>False</td>\n",
       "      <td>False</td>\n",
       "      <td>False</td>\n",
       "      <td>False</td>\n",
       "      <td>False</td>\n",
       "      <td>0</td>\n",
       "    </tr>\n",
       "    <tr>\n",
       "      <th>1</th>\n",
       "      <td>0.570846</td>\n",
       "      <td>-0.544869</td>\n",
       "      <td>-0.825086</td>\n",
       "      <td>0.310047</td>\n",
       "      <td>0.505455</td>\n",
       "      <td>-0.096478</td>\n",
       "      <td>-0.118811</td>\n",
       "      <td>-0.101088</td>\n",
       "      <td>-0.666081</td>\n",
       "      <td>-0.753738</td>\n",
       "      <td>-0.317698</td>\n",
       "      <td>True</td>\n",
       "      <td>False</td>\n",
       "      <td>False</td>\n",
       "      <td>False</td>\n",
       "      <td>False</td>\n",
       "      <td>False</td>\n",
       "      <td>False</td>\n",
       "      <td>False</td>\n",
       "      <td>0</td>\n",
       "    </tr>\n",
       "    <tr>\n",
       "      <th>2</th>\n",
       "      <td>-0.273144</td>\n",
       "      <td>-0.544869</td>\n",
       "      <td>0.527759</td>\n",
       "      <td>-0.002602</td>\n",
       "      <td>-0.416330</td>\n",
       "      <td>-0.472331</td>\n",
       "      <td>-0.118811</td>\n",
       "      <td>-0.101088</td>\n",
       "      <td>0.385918</td>\n",
       "      <td>-0.216694</td>\n",
       "      <td>0.445699</td>\n",
       "      <td>True</td>\n",
       "      <td>False</td>\n",
       "      <td>False</td>\n",
       "      <td>False</td>\n",
       "      <td>False</td>\n",
       "      <td>False</td>\n",
       "      <td>False</td>\n",
       "      <td>False</td>\n",
       "      <td>0</td>\n",
       "    </tr>\n",
       "    <tr>\n",
       "      <th>3</th>\n",
       "      <td>-0.903498</td>\n",
       "      <td>0.295416</td>\n",
       "      <td>0.274101</td>\n",
       "      <td>-1.040066</td>\n",
       "      <td>-0.114376</td>\n",
       "      <td>-0.735377</td>\n",
       "      <td>-0.118811</td>\n",
       "      <td>-0.101088</td>\n",
       "      <td>-0.159806</td>\n",
       "      <td>-0.619477</td>\n",
       "      <td>0.954630</td>\n",
       "      <td>True</td>\n",
       "      <td>False</td>\n",
       "      <td>False</td>\n",
       "      <td>False</td>\n",
       "      <td>False</td>\n",
       "      <td>False</td>\n",
       "      <td>False</td>\n",
       "      <td>False</td>\n",
       "      <td>0</td>\n",
       "    </tr>\n",
       "    <tr>\n",
       "      <th>4</th>\n",
       "      <td>-1.117133</td>\n",
       "      <td>-1.385154</td>\n",
       "      <td>-1.078744</td>\n",
       "      <td>-0.709400</td>\n",
       "      <td>-0.871570</td>\n",
       "      <td>-0.919969</td>\n",
       "      <td>-0.118811</td>\n",
       "      <td>-0.101088</td>\n",
       "      <td>0.091261</td>\n",
       "      <td>-1.022260</td>\n",
       "      <td>-0.699396</td>\n",
       "      <td>True</td>\n",
       "      <td>False</td>\n",
       "      <td>False</td>\n",
       "      <td>False</td>\n",
       "      <td>False</td>\n",
       "      <td>False</td>\n",
       "      <td>False</td>\n",
       "      <td>False</td>\n",
       "      <td>0</td>\n",
       "    </tr>\n",
       "  </tbody>\n",
       "</table>\n",
       "</div>"
      ],
      "text/plain": [
       "   loan_amnt     grade  total_acc  out_prncp  total_pymnt  total_rec_int  \\\n",
       "0  -0.747888 -1.385154  -0.655980  -0.397895    -0.691128      -0.791511   \n",
       "1   0.570846 -0.544869  -0.825086   0.310047     0.505455      -0.096478   \n",
       "2  -0.273144 -0.544869   0.527759  -0.002602    -0.416330      -0.472331   \n",
       "3  -0.903498  0.295416   0.274101  -1.040066    -0.114376      -0.735377   \n",
       "4  -1.117133 -1.385154  -1.078744  -0.709400    -0.871570      -0.919969   \n",
       "\n",
       "   total_rec_late_fee  recoveries  tot_cur_bal  num_il_tl  num_rev_accts  \\\n",
       "0           -0.118811   -0.101088     1.269507   0.051829      -1.335560   \n",
       "1           -0.118811   -0.101088    -0.666081  -0.753738      -0.317698   \n",
       "2           -0.118811   -0.101088     0.385918  -0.216694       0.445699   \n",
       "3           -0.118811   -0.101088    -0.159806  -0.619477       0.954630   \n",
       "4           -0.118811   -0.101088     0.091261  -1.022260      -0.699396   \n",
       "\n",
       "   term_ 36 months  home_ownership_ANY  pymnt_plan_y  purpose_house  \\\n",
       "0             True               False         False          False   \n",
       "1             True               False         False          False   \n",
       "2             True               False         False          False   \n",
       "3             True               False         False          False   \n",
       "4             True               False         False          False   \n",
       "\n",
       "   purpose_major_purchase  purpose_medical  hardship_flag_Y  \\\n",
       "0                   False            False            False   \n",
       "1                   False            False            False   \n",
       "2                   False            False            False   \n",
       "3                   False            False            False   \n",
       "4                   False            False            False   \n",
       "\n",
       "   debt_settlement_flag_Y  loan_status  \n",
       "0                   False            0  \n",
       "1                   False            0  \n",
       "2                   False            0  \n",
       "3                   False            0  \n",
       "4                   False            0  "
      ]
     },
     "execution_count": 101,
     "metadata": {},
     "output_type": "execute_result"
    }
   ],
   "source": [
    "print(loans.shape)\n",
    "loans.head()"
   ]
  },
  {
   "cell_type": "code",
   "execution_count": 102,
   "metadata": {},
   "outputs": [
    {
     "name": "stdout",
     "output_type": "stream",
     "text": [
      "shape of train_dataset: (79088, 20) ,test_dataset: (26363, 20)\n",
      "shape of train: (79088, 19) (79088,) , test: (26363, 19) (26363,) \n",
      "----\n",
      "<class 'pandas.core.frame.DataFrame'>\n",
      "Index: 79088 entries, 57802 to 899\n",
      "Data columns (total 19 columns):\n",
      " #   Column                  Non-Null Count  Dtype  \n",
      "---  ------                  --------------  -----  \n",
      " 0   loan_amnt               79088 non-null  float64\n",
      " 1   grade                   79088 non-null  float64\n",
      " 2   total_acc               79088 non-null  float64\n",
      " 3   out_prncp               79088 non-null  float64\n",
      " 4   total_pymnt             79088 non-null  float64\n",
      " 5   total_rec_int           79088 non-null  float64\n",
      " 6   total_rec_late_fee      79088 non-null  float64\n",
      " 7   recoveries              79088 non-null  float64\n",
      " 8   tot_cur_bal             79088 non-null  float64\n",
      " 9   num_il_tl               79088 non-null  float64\n",
      " 10  num_rev_accts           79088 non-null  float64\n",
      " 11  term_ 36 months         79088 non-null  bool   \n",
      " 12  home_ownership_ANY      79088 non-null  bool   \n",
      " 13  pymnt_plan_y            79088 non-null  bool   \n",
      " 14  purpose_house           79088 non-null  bool   \n",
      " 15  purpose_major_purchase  79088 non-null  bool   \n",
      " 16  purpose_medical         79088 non-null  bool   \n",
      " 17  hardship_flag_Y         79088 non-null  bool   \n",
      " 18  debt_settlement_flag_Y  79088 non-null  bool   \n",
      "dtypes: bool(8), float64(11)\n",
      "memory usage: 7.8 MB\n",
      "<class 'pandas.core.series.Series'>\n",
      "Index: 79088 entries, 57802 to 899\n",
      "Series name: loan_status\n",
      "Non-Null Count  Dtype\n",
      "--------------  -----\n",
      "79088 non-null  int64\n",
      "dtypes: int64(1)\n",
      "memory usage: 1.2 MB\n",
      "<class 'pandas.core.frame.DataFrame'> None <class 'pandas.core.series.Series'> None\n"
     ]
    }
   ],
   "source": [
    "seed = 24\n",
    "from sklearn.model_selection import train_test_split\n",
    "train_ds, test_ds = train_test_split(loans, test_size=0.25, random_state=24)\n",
    "ylabel = \"loan_status\"\n",
    "print(\"shape of train_dataset:\",train_ds.shape,\",test_dataset:\",test_ds.shape)\n",
    "xlabel = loans.columns.drop(ylabel)\n",
    "train_x, train_y = train_ds[xlabel], train_ds[ylabel]\n",
    "test_x, test_y = test_ds[xlabel], test_ds[ylabel]\n",
    "print(\"shape of train:\",train_x.shape,train_y.shape,\", test:\",test_x.shape,test_y.shape,\"\\n----\")\n",
    "print(type(train_x), train_x.info(), type(train_y), train_y.info())"
   ]
  },
  {
   "cell_type": "code",
   "execution_count": 103,
   "metadata": {},
   "outputs": [
    {
     "data": {
      "text/html": [
       "<div>\n",
       "<style scoped>\n",
       "    .dataframe tbody tr th:only-of-type {\n",
       "        vertical-align: middle;\n",
       "    }\n",
       "\n",
       "    .dataframe tbody tr th {\n",
       "        vertical-align: top;\n",
       "    }\n",
       "\n",
       "    .dataframe thead th {\n",
       "        text-align: right;\n",
       "    }\n",
       "</style>\n",
       "<table border=\"1\" class=\"dataframe\">\n",
       "  <thead>\n",
       "    <tr style=\"text-align: right;\">\n",
       "      <th></th>\n",
       "      <th>count</th>\n",
       "      <th>mean</th>\n",
       "      <th>std</th>\n",
       "      <th>min</th>\n",
       "      <th>25%</th>\n",
       "      <th>50%</th>\n",
       "      <th>75%</th>\n",
       "      <th>max</th>\n",
       "    </tr>\n",
       "  </thead>\n",
       "  <tbody>\n",
       "    <tr>\n",
       "      <th>loan_amnt</th>\n",
       "      <td>79088.0</td>\n",
       "      <td>-0.002625</td>\n",
       "      <td>0.999708</td>\n",
       "      <td>-1.433629</td>\n",
       "      <td>-0.800637</td>\n",
       "      <td>-0.273144</td>\n",
       "      <td>0.570846</td>\n",
       "      <td>2.680820</td>\n",
       "    </tr>\n",
       "    <tr>\n",
       "      <th>grade</th>\n",
       "      <td>79088.0</td>\n",
       "      <td>0.000496</td>\n",
       "      <td>1.000236</td>\n",
       "      <td>-1.385154</td>\n",
       "      <td>-0.544869</td>\n",
       "      <td>0.295416</td>\n",
       "      <td>0.295416</td>\n",
       "      <td>3.656555</td>\n",
       "    </tr>\n",
       "    <tr>\n",
       "      <th>total_acc</th>\n",
       "      <td>79088.0</td>\n",
       "      <td>0.000836</td>\n",
       "      <td>1.002318</td>\n",
       "      <td>-1.839720</td>\n",
       "      <td>-0.740533</td>\n",
       "      <td>-0.148663</td>\n",
       "      <td>0.527759</td>\n",
       "      <td>10.335886</td>\n",
       "    </tr>\n",
       "    <tr>\n",
       "      <th>out_prncp</th>\n",
       "      <td>79088.0</td>\n",
       "      <td>-0.002545</td>\n",
       "      <td>0.998991</td>\n",
       "      <td>-1.040066</td>\n",
       "      <td>-0.866771</td>\n",
       "      <td>-0.246665</td>\n",
       "      <td>0.574063</td>\n",
       "      <td>3.469464</td>\n",
       "    </tr>\n",
       "    <tr>\n",
       "      <th>total_pymnt</th>\n",
       "      <td>79088.0</td>\n",
       "      <td>-0.000230</td>\n",
       "      <td>1.004229</td>\n",
       "      <td>-1.114739</td>\n",
       "      <td>-0.625555</td>\n",
       "      <td>-0.308345</td>\n",
       "      <td>0.280458</td>\n",
       "      <td>6.381197</td>\n",
       "    </tr>\n",
       "    <tr>\n",
       "      <th>total_rec_int</th>\n",
       "      <td>79088.0</td>\n",
       "      <td>-0.000850</td>\n",
       "      <td>1.000287</td>\n",
       "      <td>-1.091598</td>\n",
       "      <td>-0.717192</td>\n",
       "      <td>-0.319991</td>\n",
       "      <td>0.408105</td>\n",
       "      <td>7.029770</td>\n",
       "    </tr>\n",
       "    <tr>\n",
       "      <th>total_rec_late_fee</th>\n",
       "      <td>79088.0</td>\n",
       "      <td>-0.003292</td>\n",
       "      <td>0.964210</td>\n",
       "      <td>-0.118811</td>\n",
       "      <td>-0.118811</td>\n",
       "      <td>-0.118811</td>\n",
       "      <td>-0.118811</td>\n",
       "      <td>61.026677</td>\n",
       "    </tr>\n",
       "    <tr>\n",
       "      <th>recoveries</th>\n",
       "      <td>79088.0</td>\n",
       "      <td>-0.000115</td>\n",
       "      <td>1.008397</td>\n",
       "      <td>-0.101088</td>\n",
       "      <td>-0.101088</td>\n",
       "      <td>-0.101088</td>\n",
       "      <td>-0.101088</td>\n",
       "      <td>62.090862</td>\n",
       "    </tr>\n",
       "    <tr>\n",
       "      <th>tot_cur_bal</th>\n",
       "      <td>79088.0</td>\n",
       "      <td>-0.001205</td>\n",
       "      <td>0.996585</td>\n",
       "      <td>-0.896076</td>\n",
       "      <td>-0.714377</td>\n",
       "      <td>-0.388415</td>\n",
       "      <td>0.445087</td>\n",
       "      <td>20.752100</td>\n",
       "    </tr>\n",
       "    <tr>\n",
       "      <th>num_il_tl</th>\n",
       "      <td>79088.0</td>\n",
       "      <td>0.000552</td>\n",
       "      <td>0.998860</td>\n",
       "      <td>-1.156522</td>\n",
       "      <td>-0.619477</td>\n",
       "      <td>-0.216694</td>\n",
       "      <td>0.320351</td>\n",
       "      <td>12.806635</td>\n",
       "    </tr>\n",
       "    <tr>\n",
       "      <th>num_rev_accts</th>\n",
       "      <td>79088.0</td>\n",
       "      <td>0.000872</td>\n",
       "      <td>1.005881</td>\n",
       "      <td>-1.462792</td>\n",
       "      <td>-0.699396</td>\n",
       "      <td>-0.190465</td>\n",
       "      <td>0.445699</td>\n",
       "      <td>12.660044</td>\n",
       "    </tr>\n",
       "  </tbody>\n",
       "</table>\n",
       "</div>"
      ],
      "text/plain": [
       "                      count      mean       std       min       25%       50%  \\\n",
       "loan_amnt           79088.0 -0.002625  0.999708 -1.433629 -0.800637 -0.273144   \n",
       "grade               79088.0  0.000496  1.000236 -1.385154 -0.544869  0.295416   \n",
       "total_acc           79088.0  0.000836  1.002318 -1.839720 -0.740533 -0.148663   \n",
       "out_prncp           79088.0 -0.002545  0.998991 -1.040066 -0.866771 -0.246665   \n",
       "total_pymnt         79088.0 -0.000230  1.004229 -1.114739 -0.625555 -0.308345   \n",
       "total_rec_int       79088.0 -0.000850  1.000287 -1.091598 -0.717192 -0.319991   \n",
       "total_rec_late_fee  79088.0 -0.003292  0.964210 -0.118811 -0.118811 -0.118811   \n",
       "recoveries          79088.0 -0.000115  1.008397 -0.101088 -0.101088 -0.101088   \n",
       "tot_cur_bal         79088.0 -0.001205  0.996585 -0.896076 -0.714377 -0.388415   \n",
       "num_il_tl           79088.0  0.000552  0.998860 -1.156522 -0.619477 -0.216694   \n",
       "num_rev_accts       79088.0  0.000872  1.005881 -1.462792 -0.699396 -0.190465   \n",
       "\n",
       "                         75%        max  \n",
       "loan_amnt           0.570846   2.680820  \n",
       "grade               0.295416   3.656555  \n",
       "total_acc           0.527759  10.335886  \n",
       "out_prncp           0.574063   3.469464  \n",
       "total_pymnt         0.280458   6.381197  \n",
       "total_rec_int       0.408105   7.029770  \n",
       "total_rec_late_fee -0.118811  61.026677  \n",
       "recoveries         -0.101088  62.090862  \n",
       "tot_cur_bal         0.445087  20.752100  \n",
       "num_il_tl           0.320351  12.806635  \n",
       "num_rev_accts       0.445699  12.660044  "
      ]
     },
     "execution_count": 103,
     "metadata": {},
     "output_type": "execute_result"
    }
   ],
   "source": [
    "train_x.describe().T"
   ]
  },
  {
   "cell_type": "code",
   "execution_count": 105,
   "metadata": {},
   "outputs": [
    {
     "data": {
      "text/html": [
       "<style>#sk-container-id-3 {color: black;}#sk-container-id-3 pre{padding: 0;}#sk-container-id-3 div.sk-toggleable {background-color: white;}#sk-container-id-3 label.sk-toggleable__label {cursor: pointer;display: block;width: 100%;margin-bottom: 0;padding: 0.3em;box-sizing: border-box;text-align: center;}#sk-container-id-3 label.sk-toggleable__label-arrow:before {content: \"▸\";float: left;margin-right: 0.25em;color: #696969;}#sk-container-id-3 label.sk-toggleable__label-arrow:hover:before {color: black;}#sk-container-id-3 div.sk-estimator:hover label.sk-toggleable__label-arrow:before {color: black;}#sk-container-id-3 div.sk-toggleable__content {max-height: 0;max-width: 0;overflow: hidden;text-align: left;background-color: #f0f8ff;}#sk-container-id-3 div.sk-toggleable__content pre {margin: 0.2em;color: black;border-radius: 0.25em;background-color: #f0f8ff;}#sk-container-id-3 input.sk-toggleable__control:checked~div.sk-toggleable__content {max-height: 200px;max-width: 100%;overflow: auto;}#sk-container-id-3 input.sk-toggleable__control:checked~label.sk-toggleable__label-arrow:before {content: \"▾\";}#sk-container-id-3 div.sk-estimator input.sk-toggleable__control:checked~label.sk-toggleable__label {background-color: #d4ebff;}#sk-container-id-3 div.sk-label input.sk-toggleable__control:checked~label.sk-toggleable__label {background-color: #d4ebff;}#sk-container-id-3 input.sk-hidden--visually {border: 0;clip: rect(1px 1px 1px 1px);clip: rect(1px, 1px, 1px, 1px);height: 1px;margin: -1px;overflow: hidden;padding: 0;position: absolute;width: 1px;}#sk-container-id-3 div.sk-estimator {font-family: monospace;background-color: #f0f8ff;border: 1px dotted black;border-radius: 0.25em;box-sizing: border-box;margin-bottom: 0.5em;}#sk-container-id-3 div.sk-estimator:hover {background-color: #d4ebff;}#sk-container-id-3 div.sk-parallel-item::after {content: \"\";width: 100%;border-bottom: 1px solid gray;flex-grow: 1;}#sk-container-id-3 div.sk-label:hover label.sk-toggleable__label {background-color: #d4ebff;}#sk-container-id-3 div.sk-serial::before {content: \"\";position: absolute;border-left: 1px solid gray;box-sizing: border-box;top: 0;bottom: 0;left: 50%;z-index: 0;}#sk-container-id-3 div.sk-serial {display: flex;flex-direction: column;align-items: center;background-color: white;padding-right: 0.2em;padding-left: 0.2em;position: relative;}#sk-container-id-3 div.sk-item {position: relative;z-index: 1;}#sk-container-id-3 div.sk-parallel {display: flex;align-items: stretch;justify-content: center;background-color: white;position: relative;}#sk-container-id-3 div.sk-item::before, #sk-container-id-3 div.sk-parallel-item::before {content: \"\";position: absolute;border-left: 1px solid gray;box-sizing: border-box;top: 0;bottom: 0;left: 50%;z-index: -1;}#sk-container-id-3 div.sk-parallel-item {display: flex;flex-direction: column;z-index: 1;position: relative;background-color: white;}#sk-container-id-3 div.sk-parallel-item:first-child::after {align-self: flex-end;width: 50%;}#sk-container-id-3 div.sk-parallel-item:last-child::after {align-self: flex-start;width: 50%;}#sk-container-id-3 div.sk-parallel-item:only-child::after {width: 0;}#sk-container-id-3 div.sk-dashed-wrapped {border: 1px dashed gray;margin: 0 0.4em 0.5em 0.4em;box-sizing: border-box;padding-bottom: 0.4em;background-color: white;}#sk-container-id-3 div.sk-label label {font-family: monospace;font-weight: bold;display: inline-block;line-height: 1.2em;}#sk-container-id-3 div.sk-label-container {text-align: center;}#sk-container-id-3 div.sk-container {/* jupyter's `normalize.less` sets `[hidden] { display: none; }` but bootstrap.min.css set `[hidden] { display: none !important; }` so we also need the `!important` here to be able to override the default hidden behavior on the sphinx rendered scikit-learn.org. See: https://github.com/scikit-learn/scikit-learn/issues/21755 */display: inline-block !important;position: relative;}#sk-container-id-3 div.sk-text-repr-fallback {display: none;}</style><div id=\"sk-container-id-3\" class=\"sk-top-container\"><div class=\"sk-text-repr-fallback\"><pre>RandomForestClassifier(n_estimators=10, random_state=24)</pre><b>In a Jupyter environment, please rerun this cell to show the HTML representation or trust the notebook. <br />On GitHub, the HTML representation is unable to render, please try loading this page with nbviewer.org.</b></div><div class=\"sk-container\" hidden><div class=\"sk-item\"><div class=\"sk-estimator sk-toggleable\"><input class=\"sk-toggleable__control sk-hidden--visually\" id=\"sk-estimator-id-3\" type=\"checkbox\" checked><label for=\"sk-estimator-id-3\" class=\"sk-toggleable__label sk-toggleable__label-arrow\">RandomForestClassifier</label><div class=\"sk-toggleable__content\"><pre>RandomForestClassifier(n_estimators=10, random_state=24)</pre></div></div></div></div></div>"
      ],
      "text/plain": [
       "RandomForestClassifier(n_estimators=10, random_state=24)"
      ]
     },
     "execution_count": 105,
     "metadata": {},
     "output_type": "execute_result"
    }
   ],
   "source": [
    "seed = 24\n",
    "from sklearn.linear_model import LogisticRegression\n",
    "lr = LogisticRegression(max_iter=500)\n",
    "lr.fit(train_x, train_y)\n",
    "\n",
    "from sklearn.ensemble import RandomForestClassifier\n",
    "forest = RandomForestClassifier(n_estimators=10,random_state=seed)\n",
    "forest.fit(train_x, train_y)\n"
   ]
  },
  {
   "cell_type": "code",
   "execution_count": 106,
   "metadata": {},
   "outputs": [
    {
     "name": "stdout",
     "output_type": "stream",
     "text": [
      "--------------------lr--------------------\n",
      "              precision    recall  f1-score   support\n",
      "\n",
      "           0       0.97      1.00      0.98     24269\n",
      "           1       0.97      0.60      0.74      2094\n",
      "\n",
      "    accuracy                           0.97     26363\n",
      "   macro avg       0.97      0.80      0.86     26363\n",
      "weighted avg       0.97      0.97      0.96     26363\n",
      "\n",
      "Test set accuracy score : 0.96685\n",
      "Area under the ROC curve : 0.800472\n",
      "--------------------forest--------------------\n",
      "              precision    recall  f1-score   support\n",
      "\n",
      "           0       0.97      1.00      0.98     24269\n",
      "           1       0.96      0.66      0.78      2094\n",
      "\n",
      "    accuracy                           0.97     26363\n",
      "   macro avg       0.96      0.83      0.88     26363\n",
      "weighted avg       0.97      0.97      0.97     26363\n",
      "\n",
      "Test set accuracy score : 0.97064\n",
      "Area under the ROC curve : 0.829149\n"
     ]
    }
   ],
   "source": [
    "from sklearn.metrics import accuracy_score\n",
    "from sklearn.metrics import classification_report\n",
    "from sklearn.metrics import roc_auc_score\n",
    "\n",
    "predict_y = lr.predict(test_x)\n",
    "print(\"-\"*20 + \"lr\" + \"-\"*20)\n",
    "print(classification_report(test_y, predict_y))\n",
    "print(\"Test set accuracy score : {:.5f}\".format(accuracy_score(predict_y, test_y,)))\n",
    "print(\"Area under the ROC curve : %f\" % roc_auc_score(test_y, predict_y))\n",
    "\n",
    "predict_y = forest.predict(test_x)\n",
    "print(\"-\"*20 + \"forest\" + \"-\"*20)\n",
    "print(classification_report(test_y, predict_y))\n",
    "print(\"Test set accuracy score : {:.5f}\".format(accuracy_score(predict_y, test_y,)))\n",
    "print(\"Area under the ROC curve : %f\" % roc_auc_score(test_y, predict_y))\n",
    "\n"
   ]
  },
  {
   "cell_type": "markdown",
   "metadata": {},
   "source": [
    "### NNModel"
   ]
  },
  {
   "cell_type": "code",
   "execution_count": 107,
   "metadata": {},
   "outputs": [],
   "source": [
    "import torch\n",
    "import torch.nn as nn\n",
    "import torch.nn.functional as F\n",
    "from sklearn.metrics import roc_auc_score\n",
    "    \n",
    "class NNModel(nn.Module):\n",
    "    def __init__(self, num_columns, num_labels, hidden_units, dropout_rates, learning_rate):\n",
    "        super(NNModel, self).__init__()\n",
    "\n",
    "        self.num_columns = num_columns\n",
    "        self.num_labels = num_labels\n",
    "\n",
    "        layers = []\n",
    "        layers.append(nn.BatchNorm1d(num_columns))\n",
    "        layers.append(nn.Dropout(dropout_rates[0]))\n",
    "\n",
    "        for i in range(len(hidden_units)):\n",
    "            layers.append(nn.Linear(hidden_units[i-1] if i > 0 else num_columns, hidden_units[i]))\n",
    "            layers.append(nn.ReLU())\n",
    "            layers.append(nn.BatchNorm1d(hidden_units[i]))\n",
    "            layers.append(nn.Dropout(dropout_rates[i+1]))\n",
    "\n",
    "        layers.append(nn.Linear(hidden_units[-1] if hidden_units else num_columns, num_labels))\n",
    "        layers.append(nn.Sigmoid())\n",
    "\n",
    "        self.model = nn.Sequential(*layers)\n",
    "\n",
    "        self.criterion = nn.BCELoss()\n",
    "        # self.criterion = nn.CrossEntropyLoss()\n",
    "        self.optimizer = torch.optim.Adam(self.model.parameters(), lr=learning_rate)\n",
    "        self.metric = roc_auc_score\n",
    "\n",
    "    def forward(self, x):\n",
    "        return self.model(x)\n",
    "\n",
    "    def compute_loss(self, outputs, targets):\n",
    "        return self.criterion(outputs, targets)\n",
    "\n",
    "    def compute_metric(self, outputs, targets):\n",
    "        return self.metric(outputs, targets)"
   ]
  },
  {
   "cell_type": "code",
   "execution_count": 108,
   "metadata": {},
   "outputs": [
    {
     "name": "stdout",
     "output_type": "stream",
     "text": [
      "available device is cuda\n",
      "GPU 0: NVIDIA GeForce RTX 3060 Laptop GPU\n"
     ]
    }
   ],
   "source": [
    "\n",
    "from torch.utils.data import DataLoader, TensorDataset\n",
    "\n",
    "num_columns = train_x.shape[1]  # 输入特征的数量\n",
    "num_labels = 1  # 输出标签的数量为1，因为是二分类问题\n",
    "hidden_units = [150,150,150]  # 隐藏层的单元数量\n",
    "dropout_rates = [0.1, 0, 0.1, 0]  # 随机失活的失活率\n",
    "learning_rate = 1e-3  # 学习率\n",
    "num_epochs = 20  # 迭代次数\n",
    "batch_size = 32\n",
    "\n",
    "def df_to_tensor(df):\n",
    "    return torch.from_numpy(df.astype(np.double).values)\n",
    "def eval(model):\n",
    "    with torch.no_grad():\n",
    "        model.eval() # 设置模型为评估模式\n",
    "        train_outputs = model(train_x_tensor)\n",
    "        train_auc = model.compute_metric(train_y, train_outputs.cpu().numpy())\n",
    "        test_outputs = model(test_x_tensor)\n",
    "        test_auc = model.compute_metric(test_y, test_outputs.cpu().numpy())\n",
    "        return train_auc,test_auc\n",
    "device = torch.device(\"cuda\" if torch.cuda.is_available() else \"cpu\")\n",
    "print(f\"available device is {device}\")\n",
    "gpu_count = torch.cuda.device_count()\n",
    "for i in range(gpu_count):\n",
    "    gpu_name = torch.cuda.get_device_name(i)\n",
    "    print(\"GPU {}: {}\".format(i, gpu_name))\n",
    "train_x_tensor = df_to_tensor(train_x).float().to(device)\n",
    "train_y_tensor = df_to_tensor(train_y).float().to(device)\n",
    "test_x_tensor = df_to_tensor(test_x).float().to(device)\n",
    "test_y_tensor = df_to_tensor(test_y).float().to(device)\n",
    "train_dataset = TensorDataset(train_x_tensor, train_y_tensor)\n",
    "train_loader = DataLoader(train_dataset, batch_size=batch_size, shuffle=True)"
   ]
  },
  {
   "cell_type": "markdown",
   "metadata": {},
   "source": [
    "### Single"
   ]
  },
  {
   "cell_type": "code",
   "execution_count": 109,
   "metadata": {},
   "outputs": [
    {
     "name": "stderr",
     "output_type": "stream",
     "text": [
      "training loss: 100%|██████████| 2472/2472 [00:07<00:00, 330.98it/s, loss=0.0638, epoch=0]\n"
     ]
    },
    {
     "name": "stdout",
     "output_type": "stream",
     "text": [
      "Epoch 1/20, Loss: 0.06379693746566772\n",
      "Train AUC: 0.9075807105330437, Test AUC: 0.9070023435590968\n"
     ]
    },
    {
     "name": "stderr",
     "output_type": "stream",
     "text": [
      "training loss: 100%|██████████| 2472/2472 [00:07<00:00, 352.29it/s, loss=0.0179, epoch=1]\n"
     ]
    },
    {
     "name": "stdout",
     "output_type": "stream",
     "text": [
      "Epoch 2/20, Loss: 0.01789719983935356\n",
      "Train AUC: 0.9550878109371937, Test AUC: 0.9542533025749318\n"
     ]
    },
    {
     "name": "stderr",
     "output_type": "stream",
     "text": [
      "training loss: 100%|██████████| 2472/2472 [00:06<00:00, 374.03it/s, loss=0.1187, epoch=2]\n"
     ]
    },
    {
     "name": "stdout",
     "output_type": "stream",
     "text": [
      "Epoch 3/20, Loss: 0.1187400072813034\n",
      "Train AUC: 0.9638494838882989, Test AUC: 0.9611734607999018\n"
     ]
    },
    {
     "name": "stderr",
     "output_type": "stream",
     "text": [
      "training loss: 100%|██████████| 2472/2472 [00:06<00:00, 383.60it/s, loss=0.0437, epoch=3]\n"
     ]
    },
    {
     "name": "stdout",
     "output_type": "stream",
     "text": [
      "Epoch 4/20, Loss: 0.0437234602868557\n",
      "Train AUC: 0.961426868205245, Test AUC: 0.9575286831066457\n"
     ]
    },
    {
     "name": "stderr",
     "output_type": "stream",
     "text": [
      "training loss: 100%|██████████| 2472/2472 [00:06<00:00, 369.44it/s, loss=0.1994, epoch=4]\n"
     ]
    },
    {
     "name": "stdout",
     "output_type": "stream",
     "text": [
      "Epoch 5/20, Loss: 0.19941186904907227\n",
      "Train AUC: 0.9660406073872577, Test AUC: 0.96304123595912\n"
     ]
    },
    {
     "name": "stderr",
     "output_type": "stream",
     "text": [
      "training loss: 100%|██████████| 2472/2472 [00:07<00:00, 338.44it/s, loss=0.4370, epoch=5]\n"
     ]
    },
    {
     "name": "stdout",
     "output_type": "stream",
     "text": [
      "Epoch 6/20, Loss: 0.4369768798351288\n",
      "Train AUC: 0.9576910405219667, Test AUC: 0.9548791574915082\n"
     ]
    },
    {
     "name": "stderr",
     "output_type": "stream",
     "text": [
      "training loss: 100%|██████████| 2472/2472 [00:08<00:00, 300.30it/s, loss=0.0116, epoch=6]\n"
     ]
    },
    {
     "name": "stdout",
     "output_type": "stream",
     "text": [
      "Epoch 7/20, Loss: 0.011642741039395332\n",
      "Train AUC: 0.9626131504930158, Test AUC: 0.959603623710888\n"
     ]
    },
    {
     "name": "stderr",
     "output_type": "stream",
     "text": [
      "training loss: 100%|██████████| 2472/2472 [00:15<00:00, 159.61it/s, loss=0.0222, epoch=7]\n"
     ]
    },
    {
     "name": "stdout",
     "output_type": "stream",
     "text": [
      "Epoch 8/20, Loss: 0.02223506197333336\n",
      "Train AUC: 0.966972540432848, Test AUC: 0.9640462087562585\n"
     ]
    },
    {
     "name": "stderr",
     "output_type": "stream",
     "text": [
      "training loss: 100%|██████████| 2472/2472 [00:09<00:00, 265.93it/s, loss=0.0100, epoch=8]\n"
     ]
    },
    {
     "name": "stdout",
     "output_type": "stream",
     "text": [
      "Epoch 9/20, Loss: 0.009965416975319386\n",
      "Train AUC: 0.9526555524496552, Test AUC: 0.9469070954676537\n"
     ]
    },
    {
     "name": "stderr",
     "output_type": "stream",
     "text": [
      "training loss: 100%|██████████| 2472/2472 [00:08<00:00, 305.86it/s, loss=0.0060, epoch=9]\n"
     ]
    },
    {
     "name": "stdout",
     "output_type": "stream",
     "text": [
      "Epoch 10/20, Loss: 0.006009811069816351\n",
      "Train AUC: 0.9659074981920012, Test AUC: 0.9632538422519354\n"
     ]
    },
    {
     "name": "stderr",
     "output_type": "stream",
     "text": [
      "training loss: 100%|██████████| 2472/2472 [00:07<00:00, 321.64it/s, loss=0.0063, epoch=10]\n"
     ]
    },
    {
     "name": "stdout",
     "output_type": "stream",
     "text": [
      "Epoch 11/20, Loss: 0.00632565189152956\n",
      "Train AUC: 0.966791032317257, Test AUC: 0.9640126191462036\n"
     ]
    },
    {
     "name": "stderr",
     "output_type": "stream",
     "text": [
      "training loss: 100%|██████████| 2472/2472 [00:07<00:00, 322.37it/s, loss=0.1429, epoch=11]\n"
     ]
    },
    {
     "name": "stdout",
     "output_type": "stream",
     "text": [
      "Epoch 12/20, Loss: 0.14291790127754211\n",
      "Train AUC: 0.9673906205593414, Test AUC: 0.9645412668725807\n"
     ]
    },
    {
     "name": "stderr",
     "output_type": "stream",
     "text": [
      "training loss: 100%|██████████| 2472/2472 [00:07<00:00, 315.43it/s, loss=0.0280, epoch=12]\n"
     ]
    },
    {
     "name": "stdout",
     "output_type": "stream",
     "text": [
      "Epoch 13/20, Loss: 0.028013434261083603\n",
      "Train AUC: 0.9688699433286823, Test AUC: 0.9637094566814655\n"
     ]
    },
    {
     "name": "stderr",
     "output_type": "stream",
     "text": [
      "training loss: 100%|██████████| 2472/2472 [00:07<00:00, 321.67it/s, loss=0.2151, epoch=13]\n"
     ]
    },
    {
     "name": "stdout",
     "output_type": "stream",
     "text": [
      "Epoch 14/20, Loss: 0.21506646275520325\n",
      "Train AUC: 0.959885937668341, Test AUC: 0.9557768580219723\n"
     ]
    },
    {
     "name": "stderr",
     "output_type": "stream",
     "text": [
      "training loss: 100%|██████████| 2472/2472 [00:07<00:00, 318.72it/s, loss=0.0136, epoch=14]\n"
     ]
    },
    {
     "name": "stdout",
     "output_type": "stream",
     "text": [
      "Epoch 15/20, Loss: 0.013571731746196747\n",
      "Train AUC: 0.9643575044136538, Test AUC: 0.9601502960903466\n"
     ]
    },
    {
     "name": "stderr",
     "output_type": "stream",
     "text": [
      "training loss: 100%|██████████| 2472/2472 [00:07<00:00, 316.51it/s, loss=0.2396, epoch=15]\n"
     ]
    },
    {
     "name": "stdout",
     "output_type": "stream",
     "text": [
      "Epoch 16/20, Loss: 0.2396070510149002\n",
      "Train AUC: 0.9679441724655049, Test AUC: 0.9626095199369782\n"
     ]
    },
    {
     "name": "stderr",
     "output_type": "stream",
     "text": [
      "training loss: 100%|██████████| 2472/2472 [00:07<00:00, 320.06it/s, loss=0.3161, epoch=16]\n"
     ]
    },
    {
     "name": "stdout",
     "output_type": "stream",
     "text": [
      "Epoch 17/20, Loss: 0.3161364793777466\n",
      "Train AUC: 0.9676222922349755, Test AUC: 0.9613222330593153\n"
     ]
    },
    {
     "name": "stderr",
     "output_type": "stream",
     "text": [
      "training loss: 100%|██████████| 2472/2472 [00:07<00:00, 325.36it/s, loss=0.3264, epoch=17]\n"
     ]
    },
    {
     "name": "stdout",
     "output_type": "stream",
     "text": [
      "Epoch 18/20, Loss: 0.3263852596282959\n",
      "Train AUC: 0.9647690622933821, Test AUC: 0.9587786809913073\n"
     ]
    },
    {
     "name": "stderr",
     "output_type": "stream",
     "text": [
      "training loss: 100%|██████████| 2472/2472 [00:07<00:00, 316.85it/s, loss=0.0145, epoch=18]\n"
     ]
    },
    {
     "name": "stdout",
     "output_type": "stream",
     "text": [
      "Epoch 19/20, Loss: 0.014496998861432076\n",
      "Train AUC: 0.9656037357941638, Test AUC: 0.9601361774346849\n"
     ]
    },
    {
     "name": "stderr",
     "output_type": "stream",
     "text": [
      "training loss: 100%|██████████| 2472/2472 [00:07<00:00, 318.60it/s, loss=0.0143, epoch=19]\n"
     ]
    },
    {
     "name": "stdout",
     "output_type": "stream",
     "text": [
      "Epoch 20/20, Loss: 0.014259178191423416\n",
      "Train AUC: 0.9699438855385484, Test AUC: 0.964828756153717\n"
     ]
    }
   ],
   "source": [
    "# single pointing training\n",
    "from tqdm import tqdm\n",
    "model = NNModel(num_columns, num_labels, hidden_units, dropout_rates, learning_rate).to(device)\n",
    "# model = MLPModel(num_columns, num_labels, hidden_units, dropout_rates, learning_rate).to(device)\n",
    "for epoch in range(num_epochs):\n",
    "    tq = tqdm(train_loader)\n",
    "    for batch_data, batch_labels in tq:\n",
    "        # 将数据和标签转换为Tensor形式\n",
    "        batch_labels = batch_labels.unsqueeze(1)  # 将标签的维度从(64,)变为(64, 1)\n",
    "        # 前向传播\n",
    "        outputs = model(batch_data)\n",
    "        # 计算损失\n",
    "        loss = model.compute_loss(outputs, batch_labels)\n",
    "        # 反向传播和优化\n",
    "        model.optimizer.zero_grad()\n",
    "        loss.backward()\n",
    "        model.optimizer.step()\n",
    "        tq.set_description(f\"training loss\")\n",
    "        tq.set_postfix({\n",
    "            \"loss\": f\"{loss.item():.4f}\",\n",
    "            \"epoch\": f\"{epoch}\"\n",
    "        })\n",
    "    # 打印每个epoch的损失\n",
    "    print(f\"Epoch {epoch+1}/{num_epochs}, Loss: {loss.item()}\")\n",
    "    train_auc,test_auc = eval(model)\n",
    "    print(f\"Train AUC: {train_auc}, Test AUC: {test_auc}\")"
   ]
  },
  {
   "cell_type": "markdown",
   "metadata": {},
   "source": [
    "### Federated Learning"
   ]
  },
  {
   "cell_type": "code",
   "execution_count": 110,
   "metadata": {},
   "outputs": [],
   "source": [
    "from torch.utils.data import random_split, DataLoader\n",
    "import copy\n",
    "def split_dataset(dataset, num_client, batch_size):\n",
    "    split_size = len(dataset) // num_client\n",
    "    data_loaders = []\n",
    "    for split in random_split(dataset,[split_size] * num_client):\n",
    "        loader = DataLoader(split,batch_size=batch_size,shuffle=True)\n",
    "        data_loaders.append(loader)\n",
    "    return data_loaders\n",
    "\n",
    "class Client:\n",
    "    def __init__(\n",
    "        self, \n",
    "        device,\n",
    "        model,\n",
    "        local_epoch = 1,\n",
    "    ):\n",
    "        self.device = device\n",
    "        self.model = copy.deepcopy(model)\n",
    "        self.model.to(device)\n",
    "        self.local_epoch = local_epoch\n",
    "\n",
    "    def train(self, dataloader: DataLoader):\n",
    "        tq = tqdm(dataloader)\n",
    "        for _ in range(self.local_epoch):\n",
    "            loss_ema = None\n",
    "            iter_loss_sum = 0\n",
    "            n_iter = 0\n",
    "            loss_ema_list = []\n",
    "            avg_iter_loss_list = []\n",
    "            for x, y in tq:\n",
    "                x = x.to(self.device)\n",
    "                y = y.unsqueeze(1)\n",
    "                outputs = self.model(x)\n",
    "                loss = self.model.compute_loss(outputs, y)\n",
    "                self.model.optimizer.zero_grad()\n",
    "                loss.backward()\n",
    "                self.model.optimizer.step()\n",
    "                if loss_ema is None:\n",
    "                    loss_ema = loss.item()\n",
    "                else:\n",
    "                    loss_ema = 0.9 * loss_ema + 0.1 * loss.item()\n",
    "                iter_loss_sum = iter_loss_sum + loss.item()\n",
    "                n_iter = n_iter + 1\n",
    "                tq.set_postfix({\n",
    "                    \"loss\": f\"{loss_ema:.4f}\",\n",
    "                    \"iter_loss\": f\"{loss.item()}\"\n",
    "                })\n",
    "            loss_ema_list.append(loss_ema)\n",
    "            avg_iter_loss_list.append(iter_loss_sum / n_iter)\n",
    "        return sum(loss_ema_list)/len(loss_ema_list),sum(avg_iter_loss_list)/len(avg_iter_loss_list)\n",
    "    \n"
   ]
  },
  {
   "cell_type": "code",
   "execution_count": 112,
   "metadata": {},
   "outputs": [
    {
     "name": "stdout",
     "output_type": "stream",
     "text": [
      "--start--\n"
     ]
    },
    {
     "name": "stderr",
     "output_type": "stream",
     "text": [
      "100%|██████████| 618/618 [00:01<00:00, 326.00it/s, loss=0.1696, iter_loss=0.06735872477293015] \n",
      "100%|██████████| 618/618 [00:01<00:00, 388.56it/s, loss=0.1981, iter_loss=0.3265131413936615]  \n",
      "100%|██████████| 618/618 [00:01<00:00, 360.61it/s, loss=0.1775, iter_loss=0.28974100947380066] \n",
      "100%|██████████| 618/618 [00:01<00:00, 360.54it/s, loss=0.1925, iter_loss=0.1493341028690338]  \n"
     ]
    },
    {
     "name": "stdout",
     "output_type": "stream",
     "text": [
      "epoch:0, loss_ema:0.18440283429799825, loss_iter:0.26290856168340154, train_auc:0.8598682004442135, test_auc:0.8551024408331908\n"
     ]
    },
    {
     "name": "stderr",
     "output_type": "stream",
     "text": [
      "100%|██████████| 618/618 [00:01<00:00, 357.50it/s, loss=0.2272, iter_loss=0.0787719339132309]  \n",
      "100%|██████████| 618/618 [00:01<00:00, 316.63it/s, loss=0.1526, iter_loss=0.11810706555843353] \n",
      "100%|██████████| 618/618 [00:01<00:00, 347.67it/s, loss=0.1488, iter_loss=0.20046886801719666] \n",
      "100%|██████████| 618/618 [00:02<00:00, 262.97it/s, loss=0.1731, iter_loss=0.25049716234207153] \n"
     ]
    },
    {
     "name": "stdout",
     "output_type": "stream",
     "text": [
      "epoch:1, loss_ema:0.17543749479512058, loss_iter:0.20217071262242509, train_auc:0.800828877870367, test_auc:0.8000286938309209\n"
     ]
    },
    {
     "name": "stderr",
     "output_type": "stream",
     "text": [
      "100%|██████████| 618/618 [00:03<00:00, 178.31it/s, loss=0.1522, iter_loss=0.10520325601100922] \n",
      "100%|██████████| 618/618 [00:03<00:00, 174.59it/s, loss=0.1392, iter_loss=0.07346060127019882] \n",
      "100%|██████████| 618/618 [00:03<00:00, 167.40it/s, loss=0.2088, iter_loss=0.3266622722148895]  \n",
      "100%|██████████| 618/618 [00:03<00:00, 169.19it/s, loss=0.1958, iter_loss=0.44753792881965637] \n"
     ]
    },
    {
     "name": "stdout",
     "output_type": "stream",
     "text": [
      "epoch:2, loss_ema:0.1739888976325299, loss_iter:0.20012431149898416, train_auc:0.880441106512139, test_auc:0.8807278008589101\n"
     ]
    },
    {
     "name": "stderr",
     "output_type": "stream",
     "text": [
      "100%|██████████| 618/618 [00:03<00:00, 173.43it/s, loss=0.1538, iter_loss=0.15844468772411346] \n",
      "100%|██████████| 618/618 [00:03<00:00, 173.90it/s, loss=0.1516, iter_loss=0.041567325592041016]\n",
      "100%|██████████| 618/618 [00:03<00:00, 175.41it/s, loss=0.1523, iter_loss=0.21655592322349548] \n",
      "100%|██████████| 618/618 [00:03<00:00, 170.24it/s, loss=0.1521, iter_loss=0.1551196277141571]  \n"
     ]
    },
    {
     "name": "stdout",
     "output_type": "stream",
     "text": [
      "epoch:3, loss_ema:0.15244620685091542, loss_iter:0.2057634690010914, train_auc:0.9267137484506961, test_auc:0.9259902431529636\n"
     ]
    },
    {
     "name": "stderr",
     "output_type": "stream",
     "text": [
      "100%|██████████| 618/618 [00:03<00:00, 170.81it/s, loss=0.1590, iter_loss=0.10647015273571014] \n",
      "100%|██████████| 618/618 [00:03<00:00, 168.84it/s, loss=0.1654, iter_loss=0.15422017872333527] \n",
      "100%|██████████| 618/618 [00:03<00:00, 168.35it/s, loss=0.1889, iter_loss=0.22174391150474548] \n",
      "100%|██████████| 618/618 [00:03<00:00, 167.32it/s, loss=0.1871, iter_loss=0.19078439474105835] \n"
     ]
    },
    {
     "name": "stdout",
     "output_type": "stream",
     "text": [
      "epoch:4, loss_ema:0.17507636907130095, loss_iter:0.2111300095994158, train_auc:0.8688962280263971, test_auc:0.8708833591247228\n"
     ]
    },
    {
     "name": "stderr",
     "output_type": "stream",
     "text": [
      "100%|██████████| 618/618 [00:03<00:00, 175.78it/s, loss=0.2224, iter_loss=0.22343483567237854] \n",
      "100%|██████████| 618/618 [00:03<00:00, 168.19it/s, loss=0.1716, iter_loss=0.07486122101545334] \n",
      "100%|██████████| 618/618 [00:03<00:00, 166.52it/s, loss=0.2161, iter_loss=0.2287920117378235]  \n",
      "100%|██████████| 618/618 [00:03<00:00, 166.17it/s, loss=0.2087, iter_loss=0.09066235274076462] \n"
     ]
    },
    {
     "name": "stdout",
     "output_type": "stream",
     "text": [
      "epoch:5, loss_ema:0.20469611446527342, loss_iter:0.2134084664812631, train_auc:0.8794308719045874, test_auc:0.8874796469985824\n"
     ]
    },
    {
     "name": "stderr",
     "output_type": "stream",
     "text": [
      "100%|██████████| 618/618 [00:03<00:00, 168.02it/s, loss=0.1912, iter_loss=0.1366448998451233]  \n",
      "100%|██████████| 618/618 [00:03<00:00, 163.27it/s, loss=0.2365, iter_loss=0.4025730490684509]  \n",
      "100%|██████████| 618/618 [00:03<00:00, 175.22it/s, loss=0.1814, iter_loss=0.33323144912719727] \n",
      "100%|██████████| 618/618 [00:03<00:00, 171.47it/s, loss=0.1823, iter_loss=0.1327630579471588]  \n"
     ]
    },
    {
     "name": "stdout",
     "output_type": "stream",
     "text": [
      "epoch:6, loss_ema:0.19785462819065658, loss_iter:0.21450221606283104, train_auc:0.8971570172952426, test_auc:0.8996504791507698\n"
     ]
    },
    {
     "name": "stderr",
     "output_type": "stream",
     "text": [
      "100%|██████████| 618/618 [00:03<00:00, 198.57it/s, loss=0.2420, iter_loss=0.42378073930740356] \n",
      "100%|██████████| 618/618 [00:03<00:00, 194.50it/s, loss=0.1685, iter_loss=0.09033127129077911] \n",
      "100%|██████████| 618/618 [00:03<00:00, 204.99it/s, loss=0.2252, iter_loss=0.17810788750648499] \n",
      "100%|██████████| 618/618 [00:03<00:00, 188.51it/s, loss=0.1628, iter_loss=0.09544186294078827] \n"
     ]
    },
    {
     "name": "stdout",
     "output_type": "stream",
     "text": [
      "epoch:7, loss_ema:0.19963348566441305, loss_iter:0.21435114498548571, train_auc:0.8911767830765169, test_auc:0.8968377772958085\n"
     ]
    },
    {
     "name": "stderr",
     "output_type": "stream",
     "text": [
      "100%|██████████| 618/618 [00:03<00:00, 189.17it/s, loss=0.2291, iter_loss=0.2987906038761139]  \n",
      "100%|██████████| 618/618 [00:03<00:00, 188.43it/s, loss=0.1880, iter_loss=0.20962275564670563] \n",
      "100%|██████████| 618/618 [00:03<00:00, 190.48it/s, loss=0.1568, iter_loss=0.1070045456290245]  \n",
      "100%|██████████| 618/618 [00:03<00:00, 187.03it/s, loss=0.2226, iter_loss=0.2203710973262787]  \n"
     ]
    },
    {
     "name": "stdout",
     "output_type": "stream",
     "text": [
      "epoch:8, loss_ema:0.19910859846956988, loss_iter:0.2142007378635259, train_auc:0.899020007554215, test_auc:0.9047220773625194\n"
     ]
    },
    {
     "name": "stderr",
     "output_type": "stream",
     "text": [
      "100%|██████████| 618/618 [00:03<00:00, 197.43it/s, loss=0.2399, iter_loss=0.33291131258010864] \n",
      "100%|██████████| 618/618 [00:03<00:00, 191.54it/s, loss=0.1881, iter_loss=0.13195331394672394] \n",
      "100%|██████████| 618/618 [00:03<00:00, 190.89it/s, loss=0.2259, iter_loss=0.37137940526008606] \n",
      "100%|██████████| 618/618 [00:03<00:00, 186.29it/s, loss=0.1889, iter_loss=0.14125150442123413] \n"
     ]
    },
    {
     "name": "stdout",
     "output_type": "stream",
     "text": [
      "epoch:9, loss_ema:0.2107200802097854, loss_iter:0.21624417743467783, train_auc:0.8988304071815298, test_auc:0.9012454444952257\n"
     ]
    },
    {
     "name": "stderr",
     "output_type": "stream",
     "text": [
      "100%|██████████| 618/618 [00:03<00:00, 193.57it/s, loss=0.1590, iter_loss=0.08460970222949982] \n",
      "100%|██████████| 618/618 [00:03<00:00, 188.57it/s, loss=0.1497, iter_loss=0.14878316223621368] \n",
      "100%|██████████| 618/618 [00:03<00:00, 189.88it/s, loss=0.2061, iter_loss=0.0912843868136406]  \n",
      "100%|██████████| 618/618 [00:03<00:00, 192.50it/s, loss=0.1856, iter_loss=0.06458298861980438] \n"
     ]
    },
    {
     "name": "stdout",
     "output_type": "stream",
     "text": [
      "epoch:10, loss_ema:0.175100514810406, loss_iter:0.21422436635965378, train_auc:0.8712940025129681, test_auc:0.8790157244633464\n"
     ]
    },
    {
     "name": "stderr",
     "output_type": "stream",
     "text": [
      "100%|██████████| 618/618 [00:03<00:00, 188.44it/s, loss=0.1672, iter_loss=0.11335116624832153] \n",
      "100%|██████████| 618/618 [00:03<00:00, 186.42it/s, loss=0.2215, iter_loss=0.10453365743160248] \n",
      "100%|██████████| 618/618 [00:03<00:00, 176.75it/s, loss=0.1884, iter_loss=0.12056226283311844] \n",
      "100%|██████████| 618/618 [00:03<00:00, 177.44it/s, loss=0.1976, iter_loss=0.24407537281513214] \n"
     ]
    },
    {
     "name": "stdout",
     "output_type": "stream",
     "text": [
      "epoch:11, loss_ema:0.19366882854409365, loss_iter:0.2131558180813795, train_auc:0.894384056834893, test_auc:0.8963950221575329\n"
     ]
    },
    {
     "name": "stderr",
     "output_type": "stream",
     "text": [
      "100%|██████████| 618/618 [00:03<00:00, 186.16it/s, loss=0.2183, iter_loss=0.396450012922287]   \n",
      "100%|██████████| 618/618 [00:03<00:00, 182.49it/s, loss=0.1586, iter_loss=0.1509103775024414]  \n",
      "100%|██████████| 618/618 [00:03<00:00, 182.09it/s, loss=0.1519, iter_loss=0.17579743266105652] \n",
      "100%|██████████| 618/618 [00:03<00:00, 185.09it/s, loss=0.2479, iter_loss=0.2559911608695984] \n"
     ]
    },
    {
     "name": "stdout",
     "output_type": "stream",
     "text": [
      "epoch:12, loss_ema:0.19417683477402606, loss_iter:0.23121513846001818, train_auc:0.8738093158444274, test_auc:0.8759258640509039\n"
     ]
    },
    {
     "name": "stderr",
     "output_type": "stream",
     "text": [
      "100%|██████████| 618/618 [00:03<00:00, 184.62it/s, loss=0.1936, iter_loss=0.05176393687725067] \n",
      "100%|██████████| 618/618 [00:03<00:00, 182.91it/s, loss=0.2037, iter_loss=0.26207512617111206] \n",
      "100%|██████████| 618/618 [00:03<00:00, 184.13it/s, loss=0.1997, iter_loss=0.1684330552816391]  \n",
      "100%|██████████| 618/618 [00:03<00:00, 183.88it/s, loss=0.1705, iter_loss=0.04604356735944748] \n"
     ]
    },
    {
     "name": "stdout",
     "output_type": "stream",
     "text": [
      "epoch:13, loss_ema:0.19186108174690883, loss_iter:0.22216104933069747, train_auc:0.9147006327660636, test_auc:0.9153285723061909\n"
     ]
    },
    {
     "name": "stderr",
     "output_type": "stream",
     "text": [
      "100%|██████████| 618/618 [00:03<00:00, 183.95it/s, loss=0.2487, iter_loss=0.267226904630661]   \n",
      "100%|██████████| 618/618 [00:03<00:00, 186.79it/s, loss=0.1936, iter_loss=0.053553130477666855]\n",
      "100%|██████████| 618/618 [00:03<00:00, 186.65it/s, loss=0.2263, iter_loss=0.3400318920612335]  \n",
      "100%|██████████| 618/618 [00:03<00:00, 187.46it/s, loss=0.2296, iter_loss=0.25812405347824097] \n"
     ]
    },
    {
     "name": "stdout",
     "output_type": "stream",
     "text": [
      "epoch:14, loss_ema:0.22453495014981584, loss_iter:0.21375109570426415, train_auc:0.8955327086133924, test_auc:0.9015088287545008\n"
     ]
    },
    {
     "name": "stderr",
     "output_type": "stream",
     "text": [
      "100%|██████████| 618/618 [00:03<00:00, 184.75it/s, loss=0.1978, iter_loss=0.11541351675987244] \n",
      "100%|██████████| 618/618 [00:03<00:00, 188.66it/s, loss=0.2100, iter_loss=0.12658821046352386] \n",
      "100%|██████████| 618/618 [00:03<00:00, 186.22it/s, loss=0.1827, iter_loss=0.18400917947292328] \n",
      "100%|██████████| 618/618 [00:03<00:00, 175.81it/s, loss=0.1761, iter_loss=0.14171180129051208] \n"
     ]
    },
    {
     "name": "stdout",
     "output_type": "stream",
     "text": [
      "epoch:15, loss_ema:0.1916435754657307, loss_iter:0.21380180964535733, train_auc:0.8957440717945395, test_auc:0.8982408174723273\n"
     ]
    },
    {
     "name": "stderr",
     "output_type": "stream",
     "text": [
      "100%|██████████| 618/618 [00:03<00:00, 168.40it/s, loss=0.2056, iter_loss=0.15443401038646698] \n",
      "100%|██████████| 618/618 [00:03<00:00, 188.57it/s, loss=0.1806, iter_loss=0.07764902710914612] \n",
      "100%|██████████| 618/618 [00:03<00:00, 187.35it/s, loss=0.1991, iter_loss=0.15697890520095825] \n",
      "100%|██████████| 618/618 [00:03<00:00, 191.41it/s, loss=0.1531, iter_loss=0.07010801136493683] \n"
     ]
    },
    {
     "name": "stdout",
     "output_type": "stream",
     "text": [
      "epoch:16, loss_ema:0.18461614396755685, loss_iter:0.21453788351948738, train_auc:0.9087124219865976, test_auc:0.9144785505250901\n"
     ]
    },
    {
     "name": "stderr",
     "output_type": "stream",
     "text": [
      "100%|██████████| 618/618 [00:03<00:00, 190.64it/s, loss=0.1772, iter_loss=0.38375917077064514] \n",
      "100%|██████████| 618/618 [00:03<00:00, 186.40it/s, loss=0.2187, iter_loss=0.14496389031410217] \n",
      "100%|██████████| 618/618 [00:03<00:00, 185.85it/s, loss=0.2183, iter_loss=0.18146981298923492] \n",
      "100%|██████████| 618/618 [00:03<00:00, 186.55it/s, loss=0.2151, iter_loss=0.46132591366767883] \n"
     ]
    },
    {
     "name": "stdout",
     "output_type": "stream",
     "text": [
      "epoch:17, loss_ema:0.20729504638958363, loss_iter:0.21472878301287113, train_auc:0.8951767585099641, test_auc:0.9012191355856515\n"
     ]
    },
    {
     "name": "stderr",
     "output_type": "stream",
     "text": [
      "100%|██████████| 618/618 [00:03<00:00, 186.53it/s, loss=0.1602, iter_loss=0.1598048210144043]  \n",
      "100%|██████████| 618/618 [00:03<00:00, 188.60it/s, loss=0.1605, iter_loss=0.052984897047281265]\n",
      "100%|██████████| 618/618 [00:03<00:00, 182.12it/s, loss=0.2198, iter_loss=0.29158449172973633] \n",
      "100%|██████████| 618/618 [00:03<00:00, 186.73it/s, loss=0.2273, iter_loss=0.464548259973526]   \n"
     ]
    },
    {
     "name": "stdout",
     "output_type": "stream",
     "text": [
      "epoch:18, loss_ema:0.19193110409390957, loss_iter:0.21714228461421184, train_auc:0.8946490317599249, test_auc:0.9004739854078233\n"
     ]
    },
    {
     "name": "stderr",
     "output_type": "stream",
     "text": [
      "100%|██████████| 618/618 [00:03<00:00, 185.83it/s, loss=0.2149, iter_loss=0.44217929244041443] \n",
      "100%|██████████| 618/618 [00:03<00:00, 186.10it/s, loss=0.1825, iter_loss=0.2849648892879486]  \n",
      "100%|██████████| 618/618 [00:03<00:00, 187.94it/s, loss=0.1961, iter_loss=0.182931050658226]   \n",
      "100%|██████████| 618/618 [00:03<00:00, 184.20it/s, loss=0.1833, iter_loss=0.04014314338564873] \n"
     ]
    },
    {
     "name": "stdout",
     "output_type": "stream",
     "text": [
      "epoch:19, loss_ema:0.19421006469673982, loss_iter:0.21537775253654007, train_auc:0.8967898165323991, test_auc:0.9010462779819457\n"
     ]
    }
   ],
   "source": [
    "# federated learning\n",
    "from tqdm import tqdm\n",
    "num_client = 4\n",
    "\n",
    "dataloaders = split_dataset(train_dataset,num_client,batch_size)\n",
    "# dataloaders = [train_loader]\n",
    "glb_model = NNModel(num_columns, num_labels, hidden_units, dropout_rates, learning_rate).to(device)\n",
    "clients = [Client(device,copy.deepcopy(glb_model)) for _ in range(num_client)]\n",
    "\n",
    "# batch_data, batch_labels = next(iter(train_dataset))\n",
    "# print(batch_data.shape,batch_labels.shape,len(train_dataset))\n",
    "# print(batch_data[:5])\n",
    "# for data_loaders in dataloaders:\n",
    "#     batch_data, batch_labels = next(iter(data_loaders))\n",
    "#     print(batch_data.shape,batch_labels.shape,len(data_loaders))\n",
    "#     print(batch_data[:5])\n",
    "print(\"--start--\")\n",
    "epochs = 20\n",
    "for epoch in range(epochs):\n",
    "      loss_ema_arr = []\n",
    "      loss_iter_arr = []\n",
    "      for cli,dataloader in zip(clients, dataloaders):\n",
    "         # load global model\n",
    "         cli.model.load_state_dict(copy.deepcopy(glb_model.state_dict()))\n",
    "         loss_ema,loss_iter = cli.train(dataloader)\n",
    "         loss_ema_arr.append(loss_ema)\n",
    "         loss_iter_arr.append(loss_iter)\n",
    "      # aggreaget the global model\n",
    "      avg_loss_ema = sum(loss_ema_arr)/len(loss_ema_arr)\n",
    "      avg_loss_iter = sum(loss_iter_arr)/len(loss_iter_arr)\n",
    "\n",
    "      avg_params = clients[0].model.state_dict()\n",
    "      for cli in clients[1:]:\n",
    "        for k,v in cli.model.state_dict().items():\n",
    "            avg_params[k] += v\n",
    "        for k in avg_params.keys():\n",
    "            avg_params[k] = avg_params[k] * (1/num_client) \n",
    "      glb_model.load_state_dict(avg_params)      \n",
    "      \n",
    "      train_auc, test_auc = eval(glb_model)\n",
    "      print(f\"epoch:{epoch}, loss_ema:{avg_loss_ema}, loss_iter:{avg_loss_iter}, train_auc:{train_auc}, test_auc:{test_auc}\")"
   ]
  },
  {
   "cell_type": "code",
   "execution_count": null,
   "metadata": {},
   "outputs": [],
   "source": []
  }
 ],
 "metadata": {
  "kernelspec": {
   "display_name": "dl",
   "language": "python",
   "name": "python3"
  },
  "language_info": {
   "codemirror_mode": {
    "name": "ipython",
    "version": 3
   },
   "file_extension": ".py",
   "mimetype": "text/x-python",
   "name": "python",
   "nbconvert_exporter": "python",
   "pygments_lexer": "ipython3",
   "version": "3.8.17"
  },
  "orig_nbformat": 4
 },
 "nbformat": 4,
 "nbformat_minor": 2
}
